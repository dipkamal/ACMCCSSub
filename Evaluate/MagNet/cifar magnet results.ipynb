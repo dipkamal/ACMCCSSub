{
 "cells": [
  {
   "cell_type": "markdown",
   "id": "49426550",
   "metadata": {},
   "source": [
    "# Use the results from magnet training to compute TPR, FPR and AUC"
   ]
  },
  {
   "cell_type": "code",
   "execution_count": 1,
   "id": "08d8ca98",
   "metadata": {},
   "outputs": [],
   "source": [
    "import numpy as np\n",
    "from scipy.stats import entropy\n",
    "from scipy import ndimage"
   ]
  },
  {
   "cell_type": "code",
   "execution_count": 2,
   "id": "0907725d",
   "metadata": {},
   "outputs": [],
   "source": [
    "import numpy as np\n",
    "import pandas as pd\n",
    "import torch\n",
    "import torch.nn as nn\n",
    "import torch.nn.functional as F\n",
    "import torchvision\n",
    "from torch.utils.data import DataLoader\n",
    "import torchvision.transforms as transforms"
   ]
  },
  {
   "cell_type": "code",
   "execution_count": 3,
   "id": "0869d969",
   "metadata": {},
   "outputs": [],
   "source": [
    "def train_fs(distances, train_fpr):\n",
    "    selected_distance_idx = int(np.ceil(len(distances) * (1-train_fpr)))\n",
    "    threshold = sorted(distances)[selected_distance_idx-1]\n",
    "    threshold = threshold\n",
    "    #print (\"Threshold value: %f\" % threshold)\n",
    "    return threshold"
   ]
  },
  {
   "cell_type": "code",
   "execution_count": 4,
   "id": "6351b2cb",
   "metadata": {},
   "outputs": [],
   "source": [
    "def test(model, dataset, X, threshold):\n",
    "    distances = get_distance_test(model, dataset, X)\n",
    "    Y_pred = distances > threshold\n",
    "    return Y_pred, distances"
   ]
  },
  {
   "cell_type": "code",
   "execution_count": 5,
   "id": "f2a14ac8",
   "metadata": {},
   "outputs": [],
   "source": [
    "def compute_distance(model, dataset, X):\n",
    "    distances = get_distance_test(model, dataset, X)\n",
    "    return distances"
   ]
  },
  {
   "cell_type": "code",
   "execution_count": 6,
   "id": "6aa3cf8e",
   "metadata": {},
   "outputs": [],
   "source": [
    "def get_tpr_fpr(true_labels, pred_labels):\n",
    "    TP = np.sum(np.logical_and(pred_labels == 1, true_labels == 1))\n",
    "    FP = np.sum(np.logical_and(pred_labels == 1, true_labels == 0))\n",
    "\n",
    "    AP = np.sum(true_labels)\n",
    "    AN = np.sum(1-true_labels)\n",
    "\n",
    "    tpr = TP/AP if AP>0 else np.nan\n",
    "    fpr = FP/AN if AN>0 else np.nan\n",
    "\n",
    "    return tpr, fpr, TP, AP, FP, AN"
   ]
  },
  {
   "cell_type": "code",
   "execution_count": 7,
   "id": "bef22514",
   "metadata": {},
   "outputs": [],
   "source": [
    "def evaluate_test(model, x_test, threshold, dataset):\n",
    "    Y_all = np.concatenate([np.ones(len(x_test), dtype=bool)])\n",
    "    #print(Y_all)\n",
    "    Y_all_pred, Y_all_pred_score = test(model, dataset, x_test, threshold)\n",
    "    tpr, fpr, tp, ap, fp, an = get_tpr_fpr(Y_all, Y_all_pred)\n",
    "    return tpr\n",
    "                                           "
   ]
  },
  {
   "cell_type": "markdown",
   "id": "1e502424",
   "metadata": {},
   "source": [
    "# CIFAR thresholds"
   ]
  },
  {
   "cell_type": "code",
   "execution_count": 8,
   "id": "b829e434",
   "metadata": {},
   "outputs": [],
   "source": [
    "import pandas as pd\n",
    "import numpy as np"
   ]
  },
  {
   "cell_type": "code",
   "execution_count": 16,
   "id": "c00f28ca",
   "metadata": {},
   "outputs": [],
   "source": [
    "#train data\n",
    "df_cifar = pd.read_csv(\"cifar/Benign_CIFAR_Metrics.csv\")"
   ]
  },
  {
   "cell_type": "code",
   "execution_count": 17,
   "id": "aac7ae59",
   "metadata": {},
   "outputs": [],
   "source": [
    "recon_error_benign = df_cifar.iloc[16].values.flatten().tolist()[1:]"
   ]
  },
  {
   "cell_type": "code",
   "execution_count": 18,
   "id": "70e077ea",
   "metadata": {},
   "outputs": [
    {
     "data": {
      "text/plain": [
       "(0.0115477889776229, 0.1561983227729797)"
      ]
     },
     "execution_count": 18,
     "metadata": {},
     "output_type": "execute_result"
    }
   ],
   "source": [
    "min(recon_error_benign), max(recon_error_benign)"
   ]
  },
  {
   "cell_type": "code",
   "execution_count": 19,
   "id": "cd1ac015",
   "metadata": {},
   "outputs": [
    {
     "name": "stdout",
     "output_type": "stream",
     "text": [
      "0.0777007564902305\n",
      "0.0575042925775051\n",
      "0.0491391010582447\n"
     ]
    }
   ],
   "source": [
    "fpr = [0.01, 0.05, 0.1] \n",
    "for train_fpr in fpr: \n",
    "    print(train_fs(recon_error_benign, train_fpr))"
   ]
  },
  {
   "cell_type": "code",
   "execution_count": 20,
   "id": "eda92555",
   "metadata": {},
   "outputs": [],
   "source": [
    "threshold = [0.0777007564902305, 0.0575042925775051, 0.0491391010582447]"
   ]
  },
  {
   "cell_type": "markdown",
   "id": "6ec2abf9",
   "metadata": {},
   "source": [
    "# now compute TPR"
   ]
  },
  {
   "cell_type": "code",
   "execution_count": 21,
   "id": "3ec4299d",
   "metadata": {},
   "outputs": [],
   "source": [
    "def compute_tpr(adv, threshold): \n",
    "    TN=0\n",
    "    FN=0\n",
    "    FP = 0 \n",
    "    TP=0\n",
    "    \n",
    "    for value in adv: \n",
    "        if value>threshold:\n",
    "            TP += 1\n",
    "        else: \n",
    "            FN += 1\n",
    "    \n",
    "    \n",
    "    return (TP/(TP+FN))*100"
   ]
  },
  {
   "cell_type": "code",
   "execution_count": 22,
   "id": "6401d541",
   "metadata": {},
   "outputs": [],
   "source": [
    "#pgd with five epsilons\n",
    "df_pgd_eps1 = pd.read_csv('cifar/pgd/eps8_255.csv')\n",
    "df_pgd_eps2 = pd.read_csv('cifar/pgd/eps16_255.csv')\n",
    "df_pgd_eps3 = pd.read_csv('cifar/pgd/eps32_255.csv')\n",
    "df_pgd_eps4 = pd.read_csv('cifar/pgd/eps64_255.csv')\n",
    "\n",
    "\n",
    "#fgsm with five epsilons\n",
    "df_fgsm_eps1 = pd.read_csv('cifar/fgsm/eps8_255.csv')\n",
    "df_fgsm_eps2 = pd.read_csv('cifar/fgsm/eps16_255.csv')\n",
    "df_fgsm_eps3 = pd.read_csv('cifar/fgsm/eps32_255.csv')\n",
    "df_fgsm_eps4 = pd.read_csv('cifar/fgsm/eps64_255.csv')\n",
    "\n",
    "#bim with five epsilons\n",
    "df_bim_eps1 = pd.read_csv('cifar/bim/eps8_255.csv')\n",
    "df_bim_eps2 = pd.read_csv('cifar/bim/eps16_255.csv')\n",
    "df_bim_eps3 = pd.read_csv('cifar/bim/eps32_255.csv')\n",
    "df_bim_eps4 = pd.read_csv('cifar/bim/eps64_255.csv')\n",
    "\n",
    "#cw with four confidences\n",
    "df_cw_conf1 = pd.read_csv('cifar/cw/conf_0.csv')\n",
    "df_cw_conf2 = pd.read_csv('cifar/cw/conf_50.csv')"
   ]
  },
  {
   "cell_type": "code",
   "execution_count": 23,
   "id": "e513c621",
   "metadata": {},
   "outputs": [],
   "source": [
    "magnet1 = df_pgd_eps1.iloc[16].values.flatten().tolist()[1:]\n",
    "magnet2 = df_pgd_eps2.iloc[16].values.flatten().tolist()[1:]\n",
    "magnet3 = df_pgd_eps3.iloc[16].values.flatten().tolist()[1:]\n",
    "magnet4 = df_pgd_eps4.iloc[16].values.flatten().tolist()[1:]"
   ]
  },
  {
   "cell_type": "code",
   "execution_count": 24,
   "id": "d43a5c6f",
   "metadata": {
    "scrolled": true
   },
   "outputs": [
    {
     "name": "stdout",
     "output_type": "stream",
     "text": [
      "0.5988023952095809\n",
      "1.1928429423459244\n",
      "1.5810276679841897\n",
      "100.0\n",
      "---\n",
      "3.792415169660679\n",
      "3.9761431411530817\n",
      "26.877470355731226\n",
      "100.0\n",
      "---\n",
      "7.18562874251497\n",
      "9.542743538767395\n",
      "95.45454545454545\n",
      "100.0\n",
      "---\n"
     ]
    }
   ],
   "source": [
    "for th in threshold:\n",
    "    TPR = compute_tpr(magnet1, th)\n",
    "    print(TPR)\n",
    "    TPR = compute_tpr(magnet2, th)\n",
    "    print(TPR)\n",
    "    TPR = compute_tpr(magnet3, th)\n",
    "    print(TPR)\n",
    "    TPR = compute_tpr(magnet4, th)\n",
    "    print(TPR)\n",
    "    print('---')"
   ]
  },
  {
   "cell_type": "code",
   "execution_count": 25,
   "id": "4d3c9e90",
   "metadata": {},
   "outputs": [
    {
     "name": "stdout",
     "output_type": "stream",
     "text": [
      "0.19685039370078738\n",
      "2.549019607843137\n",
      "27.218934911242602\n",
      "100.0\n",
      "---\n",
      "4.133858267716536\n",
      "10.980392156862745\n",
      "98.42209072978304\n",
      "100.0\n",
      "---\n",
      "12.795275590551181\n",
      "24.313725490196077\n",
      "100.0\n",
      "100.0\n",
      "---\n"
     ]
    }
   ],
   "source": [
    "magnet1 = df_fgsm_eps1.iloc[16].values.flatten().tolist()[1:]\n",
    "magnet2 = df_fgsm_eps2.iloc[16].values.flatten().tolist()[1:]\n",
    "magnet3 = df_fgsm_eps3.iloc[16].values.flatten().tolist()[1:]\n",
    "magnet4 = df_fgsm_eps4.iloc[16].values.flatten().tolist()[1:]\n",
    "\n",
    "\n",
    "for th in threshold:\n",
    "    TPR = compute_tpr(magnet1, th)\n",
    "    print(TPR)\n",
    "    TPR = compute_tpr(magnet2, th)\n",
    "    print(TPR)\n",
    "    TPR = compute_tpr(magnet3, th)\n",
    "    print(TPR)\n",
    "    TPR = compute_tpr(magnet4, th)\n",
    "    print(TPR)\n",
    "    print('---')"
   ]
  },
  {
   "cell_type": "code",
   "execution_count": 26,
   "id": "b748e7f2",
   "metadata": {},
   "outputs": [
    {
     "name": "stdout",
     "output_type": "stream",
     "text": [
      "0.9940357852882704\n",
      "0.5964214711729622\n",
      "2.549019607843137\n",
      "100.0\n",
      "---\n",
      "4.7713717693836974\n",
      "4.3737574552683895\n",
      "66.66666666666666\n",
      "100.0\n",
      "---\n",
      "11.332007952286283\n",
      "12.922465208747516\n",
      "100.0\n",
      "100.0\n",
      "---\n"
     ]
    }
   ],
   "source": [
    "magnet1 = df_bim_eps1.iloc[16].values.flatten().tolist()[1:]\n",
    "magnet2 = df_bim_eps2.iloc[16].values.flatten().tolist()[1:]\n",
    "magnet3 = df_bim_eps3.iloc[16].values.flatten().tolist()[1:]\n",
    "magnet4 = df_fgsm_eps4.iloc[16].values.flatten().tolist()[1:]\n",
    "\n",
    "\n",
    "for th in threshold:\n",
    "    TPR = compute_tpr(magnet1, th)\n",
    "    print(TPR)\n",
    "    TPR = compute_tpr(magnet2, th)\n",
    "    print(TPR)\n",
    "    TPR = compute_tpr(magnet3, th)\n",
    "    print(TPR)\n",
    "    TPR = compute_tpr(magnet4, th)\n",
    "    print(TPR)\n",
    "    print('---')"
   ]
  },
  {
   "cell_type": "code",
   "execution_count": 27,
   "id": "cb5d91e7",
   "metadata": {},
   "outputs": [
    {
     "name": "stdout",
     "output_type": "stream",
     "text": [
      "1.3779527559055118\n",
      "1.7786561264822136\n",
      "----\n",
      "4.724409448818897\n",
      "5.138339920948617\n",
      "----\n",
      "8.070866141732283\n",
      "11.067193675889328\n",
      "----\n"
     ]
    }
   ],
   "source": [
    "magnet1 = df_cw_conf1.iloc[16].values.flatten().tolist()[1:]\n",
    "magnet2 = df_cw_conf2.iloc[16].values.flatten().tolist()[1:]\n",
    "\n",
    "for th in threshold:\n",
    "    TPR = compute_tpr(magnet1, th)\n",
    "    print(TPR)\n",
    "    TPR = compute_tpr(magnet2, th)\n",
    "    print(TPR)\n",
    "    print('----')"
   ]
  },
  {
   "cell_type": "code",
   "execution_count": null,
   "id": "b3f36248",
   "metadata": {},
   "outputs": [],
   "source": []
  },
  {
   "cell_type": "markdown",
   "id": "ac1de930",
   "metadata": {},
   "source": [
    "# Check test FPR"
   ]
  },
  {
   "cell_type": "code",
   "execution_count": 29,
   "id": "99056f1c",
   "metadata": {},
   "outputs": [],
   "source": [
    "df_cifar = pd.read_csv(\"cifar/Test_Data_Benign_CIFAR_Metrics.csv\")"
   ]
  },
  {
   "cell_type": "code",
   "execution_count": 30,
   "id": "6f74842f",
   "metadata": {},
   "outputs": [],
   "source": [
    "recon = df_cifar.iloc[16].values.flatten().tolist()[1:]\n",
    "threshold = [0.0777007564902305, 0.0575042925775051, 0.0491391010582447]"
   ]
  },
  {
   "cell_type": "code",
   "execution_count": 31,
   "id": "88d48099",
   "metadata": {},
   "outputs": [],
   "source": [
    "def compute_FPR(ben, threshold): \n",
    "    TN=0\n",
    "    FN=0\n",
    "    FP = 0 \n",
    "    TP=0\n",
    "    \n",
    "    for value in ben: \n",
    "        if value<threshold:\n",
    "            TN += 1\n",
    "        else: \n",
    "            FP += 1\n",
    "    \n",
    "    \n",
    "    return (FP/(TN+FP))*100"
   ]
  },
  {
   "cell_type": "code",
   "execution_count": 32,
   "id": "6709ff16",
   "metadata": {},
   "outputs": [
    {
     "name": "stdout",
     "output_type": "stream",
     "text": [
      "0.8565737051792829\n",
      "4.482071713147411\n",
      "9.103585657370518\n"
     ]
    }
   ],
   "source": [
    "for th in threshold:\n",
    "    FPR = compute_FPR(recon, th)\n",
    "    print(FPR)"
   ]
  },
  {
   "cell_type": "markdown",
   "id": "40ce57c1",
   "metadata": {},
   "source": [
    "# Compute ROC AUC score"
   ]
  },
  {
   "cell_type": "code",
   "execution_count": 33,
   "id": "f79464fb",
   "metadata": {},
   "outputs": [],
   "source": [
    "df_cifar = pd.read_csv(\"cifar/Test_Data_Benign_CIFAR_Metrics.csv\")\n",
    "recon = df_cifar.iloc[16].values.flatten().tolist()[1:]"
   ]
  },
  {
   "cell_type": "code",
   "execution_count": 34,
   "id": "76d0b599",
   "metadata": {},
   "outputs": [
    {
     "data": {
      "text/plain": [
       "(0.0129460850730538, 0.1331789791584015)"
      ]
     },
     "execution_count": 34,
     "metadata": {},
     "output_type": "execute_result"
    }
   ],
   "source": [
    "min(recon), max(recon)"
   ]
  },
  {
   "cell_type": "code",
   "execution_count": 35,
   "id": "08aa8c45",
   "metadata": {},
   "outputs": [],
   "source": [
    "threshold = [0.0777007564902305, 0.0575042925775051, 0.0491391010582447,0.048, 0.0407,0.0401,0.035,0.033,0.03,0.025,0.022,0.02,0.01]"
   ]
  },
  {
   "cell_type": "code",
   "execution_count": 36,
   "id": "7dd6918c",
   "metadata": {},
   "outputs": [
    {
     "name": "stdout",
     "output_type": "stream",
     "text": [
      "[0.008565737051792829, 0.044820717131474105, 0.09103585657370518, 0.10179282868525895, 0.1760956175298805, 0.18466135458167332, 0.27629482071713146, 0.3247011952191235, 0.41872509960159365, 0.6250996015936255, 0.7754980079681275, 0.8846613545816733, 1.0]\n"
     ]
    }
   ],
   "source": [
    "fpr_results = []\n",
    "for th in threshold:\n",
    "    FPR = compute_FPR(recon, th)\n",
    "    fpr_results.append(FPR/100)\n",
    "print(fpr_results)"
   ]
  },
  {
   "cell_type": "code",
   "execution_count": 37,
   "id": "2d4d5840",
   "metadata": {},
   "outputs": [],
   "source": [
    "#pgd with five epsilons\n",
    "df_pgd_eps1 = pd.read_csv('cifar/pgd/eps8_255.csv')\n",
    "df_pgd_eps2 = pd.read_csv('cifar/pgd/eps16_255.csv')\n",
    "df_pgd_eps3 = pd.read_csv('cifar/pgd/eps32_255.csv')\n",
    "df_pgd_eps4 = pd.read_csv('cifar/pgd/eps64_255.csv')\n",
    "\n",
    "\n",
    "#fgsm with five epsilons\n",
    "df_fgsm_eps1 = pd.read_csv('cifar/fgsm/eps8_255.csv')\n",
    "df_fgsm_eps2 = pd.read_csv('cifar/fgsm/eps16_255.csv')\n",
    "df_fgsm_eps3 = pd.read_csv('cifar/fgsm/eps32_255.csv')\n",
    "df_fgsm_eps4 = pd.read_csv('cifar/fgsm/eps64_255.csv')\n",
    "\n",
    "#bim with five epsilons\n",
    "df_bim_eps1 = pd.read_csv('cifar/bim/eps8_255.csv')\n",
    "df_bim_eps2 = pd.read_csv('cifar/bim/eps16_255.csv')\n",
    "df_bim_eps3 = pd.read_csv('cifar/bim/eps32_255.csv')\n",
    "df_bim_eps4 = pd.read_csv('cifar/bim/eps64_255.csv')\n",
    "\n",
    "#cw with four confidences\n",
    "df_cw_conf1 = pd.read_csv('cifar/cw/conf_0.csv')\n",
    "df_cw_conf2 = pd.read_csv('cifar/cw/conf_50.csv')"
   ]
  },
  {
   "cell_type": "code",
   "execution_count": 38,
   "id": "afb2287e",
   "metadata": {},
   "outputs": [],
   "source": [
    "def compute_TPR(adv, threshold): \n",
    "    TN=0\n",
    "    FN=0\n",
    "    FP = 0 \n",
    "    TP=0\n",
    "    \n",
    "    for value in adv: \n",
    "        if value>threshold:\n",
    "            TP += 1\n",
    "        else: \n",
    "            FN += 1\n",
    "    \n",
    "    \n",
    "    return (TP/(TP+FN))*100"
   ]
  },
  {
   "cell_type": "code",
   "execution_count": 39,
   "id": "814180a4",
   "metadata": {},
   "outputs": [],
   "source": [
    "def compute_auc(adv_list, th): \n",
    "    tpr_results = []\n",
    "    for th in threshold:\n",
    "        TPR = compute_TPR(adv_list, th)\n",
    "        tpr_results.append(TPR/100)\n",
    "    return sklearn.metrics.auc(fpr_results, tpr_results)"
   ]
  },
  {
   "cell_type": "code",
   "execution_count": 40,
   "id": "628e4711",
   "metadata": {},
   "outputs": [
    {
     "name": "stdout",
     "output_type": "stream",
     "text": [
      "0.512443638619176\n",
      "0.7074530902235986\n",
      "0.9418102294379793\n",
      "0.9914342629482072\n"
     ]
    }
   ],
   "source": [
    "import sklearn\n",
    "from sklearn.metrics import roc_auc_score\n",
    "\n",
    "feature_squeezer_1 = df_pgd_eps1.iloc[16].values.flatten().tolist()[1:]\n",
    "feature_squeezer_2 = df_pgd_eps2.iloc[16].values.flatten().tolist()[1:]\n",
    "feature_squeezer_3 = df_pgd_eps3.iloc[16].values.flatten().tolist()[1:]\n",
    "feature_squeezer_4 = df_pgd_eps4.iloc[16].values.flatten().tolist()[1:]\n",
    "\n",
    "print(compute_auc(feature_squeezer_1, threshold))\n",
    "print(compute_auc(feature_squeezer_2, threshold))\n",
    "print(compute_auc(feature_squeezer_3, threshold))\n",
    "print(compute_auc(feature_squeezer_4, threshold))"
   ]
  },
  {
   "cell_type": "code",
   "execution_count": 41,
   "id": "c63ef43a",
   "metadata": {},
   "outputs": [
    {
     "name": "stdout",
     "output_type": "stream",
     "text": [
      "0.6488049769426232\n",
      "0.838624521521756\n",
      "0.9775902307928052\n",
      "0.9914342629482072\n"
     ]
    }
   ],
   "source": [
    "feature_squeezer_1 = df_fgsm_eps1.iloc[16].values.flatten().tolist()[1:]\n",
    "feature_squeezer_2 = df_fgsm_eps2.iloc[16].values.flatten().tolist()[1:]\n",
    "feature_squeezer_3 = df_fgsm_eps3.iloc[16].values.flatten().tolist()[1:]\n",
    "feature_squeezer_4 = df_fgsm_eps4.iloc[16].values.flatten().tolist()[1:]\n",
    "\n",
    "print(compute_auc(feature_squeezer_1, threshold))\n",
    "print(compute_auc(feature_squeezer_2, threshold))\n",
    "print(compute_auc(feature_squeezer_3, threshold))\n",
    "print(compute_auc(feature_squeezer_4, threshold))"
   ]
  },
  {
   "cell_type": "code",
   "execution_count": 42,
   "id": "53ac4e9a",
   "metadata": {
    "scrolled": true
   },
   "outputs": [
    {
     "name": "stdout",
     "output_type": "stream",
     "text": [
      "0.6410707072307192\n",
      "0.8148564786579329\n",
      "0.9600238262635731\n",
      "0.9913630350895045\n"
     ]
    }
   ],
   "source": [
    "feature_squeezer_1 = df_bim_eps1.iloc[16].values.flatten().tolist()[1:]\n",
    "feature_squeezer_2 = df_bim_eps2.iloc[16].values.flatten().tolist()[1:]\n",
    "feature_squeezer_3 = df_bim_eps3.iloc[16].values.flatten().tolist()[1:]\n",
    "feature_squeezer_4 = df_bim_eps4.iloc[16].values.flatten().tolist()[1:]\n",
    "\n",
    "print(compute_auc(feature_squeezer_1, threshold))\n",
    "print(compute_auc(feature_squeezer_2, threshold))\n",
    "print(compute_auc(feature_squeezer_3, threshold))\n",
    "print(compute_auc(feature_squeezer_4, threshold))"
   ]
  },
  {
   "cell_type": "code",
   "execution_count": 43,
   "id": "2a4bd887",
   "metadata": {},
   "outputs": [
    {
     "name": "stdout",
     "output_type": "stream",
     "text": [
      "0.49855989428114317\n",
      "0.5219322315481159\n"
     ]
    }
   ],
   "source": [
    "feature_squeezer_1 = df_cw_conf1.iloc[16].values.flatten().tolist()[1:]\n",
    "feature_squeezer_2 = df_cw_conf2.iloc[16].values.flatten().tolist()[1:]\n",
    "\n",
    "print(compute_auc(feature_squeezer_1, threshold))\n",
    "print(compute_auc(feature_squeezer_2, threshold))"
   ]
  }
 ],
 "metadata": {
  "kernelspec": {
   "display_name": "adv_detection",
   "language": "python",
   "name": "adv_detection"
  },
  "language_info": {
   "codemirror_mode": {
    "name": "ipython",
    "version": 3
   },
   "file_extension": ".py",
   "mimetype": "text/x-python",
   "name": "python",
   "nbconvert_exporter": "python",
   "pygments_lexer": "ipython3",
   "version": "3.8.10"
  }
 },
 "nbformat": 4,
 "nbformat_minor": 5
}
