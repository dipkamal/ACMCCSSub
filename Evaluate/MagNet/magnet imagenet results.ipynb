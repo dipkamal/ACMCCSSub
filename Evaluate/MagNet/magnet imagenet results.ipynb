{
 "cells": [
  {
   "cell_type": "markdown",
   "id": "fa706533",
   "metadata": {},
   "source": [
    "# Use the results from magnet training to compute TPR, FPR and AUC"
   ]
  },
  {
   "cell_type": "code",
   "execution_count": 1,
   "id": "08d8ca98",
   "metadata": {},
   "outputs": [],
   "source": [
    "import numpy as np\n",
    "from scipy.stats import entropy\n",
    "from scipy import ndimage"
   ]
  },
  {
   "cell_type": "code",
   "execution_count": 2,
   "id": "0907725d",
   "metadata": {},
   "outputs": [],
   "source": [
    "import numpy as np\n",
    "import pandas as pd\n",
    "import torch\n",
    "import torch.nn as nn\n",
    "import torch.nn.functional as F\n",
    "import torchvision\n",
    "from torch.utils.data import DataLoader\n",
    "import torchvision.transforms as transforms"
   ]
  },
  {
   "cell_type": "code",
   "execution_count": 3,
   "id": "0869d969",
   "metadata": {},
   "outputs": [],
   "source": [
    "def train_fs(distances, train_fpr):\n",
    "    selected_distance_idx = int(np.ceil(len(distances) * (1-train_fpr)))\n",
    "    threshold = sorted(distances)[selected_distance_idx-1]\n",
    "    threshold = threshold\n",
    "    #print (\"Threshold value: %f\" % threshold)\n",
    "    return threshold"
   ]
  },
  {
   "cell_type": "code",
   "execution_count": 4,
   "id": "6351b2cb",
   "metadata": {},
   "outputs": [],
   "source": [
    "def test(model, dataset, X, threshold):\n",
    "    distances = get_distance_test(model, dataset, X)\n",
    "    Y_pred = distances > threshold\n",
    "    return Y_pred, distances"
   ]
  },
  {
   "cell_type": "code",
   "execution_count": 5,
   "id": "f2a14ac8",
   "metadata": {},
   "outputs": [],
   "source": [
    "def compute_distance(model, dataset, X):\n",
    "    distances = get_distance_test(model, dataset, X)\n",
    "    return distances"
   ]
  },
  {
   "cell_type": "code",
   "execution_count": 6,
   "id": "6aa3cf8e",
   "metadata": {},
   "outputs": [],
   "source": [
    "def get_tpr_fpr(true_labels, pred_labels):\n",
    "    TP = np.sum(np.logical_and(pred_labels == 1, true_labels == 1))\n",
    "    FP = np.sum(np.logical_and(pred_labels == 1, true_labels == 0))\n",
    "\n",
    "    AP = np.sum(true_labels)\n",
    "    AN = np.sum(1-true_labels)\n",
    "\n",
    "    tpr = TP/AP if AP>0 else np.nan\n",
    "    fpr = FP/AN if AN>0 else np.nan\n",
    "\n",
    "    return tpr, fpr, TP, AP, FP, AN"
   ]
  },
  {
   "cell_type": "code",
   "execution_count": 7,
   "id": "bef22514",
   "metadata": {},
   "outputs": [],
   "source": [
    "def evaluate_test(model, x_test, threshold, dataset):\n",
    "    Y_all = np.concatenate([np.ones(len(x_test), dtype=bool)])\n",
    "    #print(Y_all)\n",
    "    Y_all_pred, Y_all_pred_score = test(model, dataset, x_test, threshold)\n",
    "    tpr, fpr, tp, ap, fp, an = get_tpr_fpr(Y_all, Y_all_pred)\n",
    "    return tpr\n",
    "                                           "
   ]
  },
  {
   "cell_type": "markdown",
   "id": "1e502424",
   "metadata": {},
   "source": [
    "# Imagenet thresholds"
   ]
  },
  {
   "cell_type": "code",
   "execution_count": 47,
   "id": "b829e434",
   "metadata": {},
   "outputs": [],
   "source": [
    "import pandas as pd\n",
    "import numpy as np"
   ]
  },
  {
   "cell_type": "code",
   "execution_count": 48,
   "id": "c00f28ca",
   "metadata": {},
   "outputs": [],
   "source": [
    "#train data\n",
    "df_cifar = pd.read_csv(\"imagenet/Benign_IMAGENET_Metrics.csv\")"
   ]
  },
  {
   "cell_type": "code",
   "execution_count": 49,
   "id": "aac7ae59",
   "metadata": {},
   "outputs": [],
   "source": [
    "recon_error_benign = df_cifar.iloc[0].values.flatten().tolist()[1:]"
   ]
  },
  {
   "cell_type": "code",
   "execution_count": 50,
   "id": "70e077ea",
   "metadata": {},
   "outputs": [
    {
     "data": {
      "text/plain": [
       "(0.0256082750856876, 0.9809719324111938)"
      ]
     },
     "execution_count": 50,
     "metadata": {},
     "output_type": "execute_result"
    }
   ],
   "source": [
    "min(recon_error_benign), max(recon_error_benign)"
   ]
  },
  {
   "cell_type": "code",
   "execution_count": 51,
   "id": "cd1ac015",
   "metadata": {},
   "outputs": [
    {
     "name": "stdout",
     "output_type": "stream",
     "text": [
      "0.7556061744689941\n",
      "0.6121619939804077\n",
      "0.5275646448135376\n"
     ]
    }
   ],
   "source": [
    "fpr = [0.01, 0.05, 0.1] \n",
    "for train_fpr in fpr: \n",
    "    print(train_fs(recon_error_benign, train_fpr))"
   ]
  },
  {
   "cell_type": "code",
   "execution_count": 52,
   "id": "eda92555",
   "metadata": {},
   "outputs": [],
   "source": [
    "threshold = [0.75560617446899415, 0.6121619939804077, 0.5275646448135376]"
   ]
  },
  {
   "cell_type": "markdown",
   "id": "6ec2abf9",
   "metadata": {},
   "source": [
    "# now compute TPR"
   ]
  },
  {
   "cell_type": "code",
   "execution_count": 53,
   "id": "3ec4299d",
   "metadata": {},
   "outputs": [],
   "source": [
    "def compute_tpr(adv, threshold): \n",
    "    TN=0\n",
    "    FN=0\n",
    "    FP = 0 \n",
    "    TP=0\n",
    "    \n",
    "    for value in adv: \n",
    "        if value>threshold:\n",
    "            TP += 1\n",
    "        else: \n",
    "            FN += 1\n",
    "    \n",
    "    \n",
    "    return (TP/(TP+FN))*100"
   ]
  },
  {
   "cell_type": "code",
   "execution_count": 54,
   "id": "6401d541",
   "metadata": {},
   "outputs": [],
   "source": [
    "#pgd with five epsilons\n",
    "df_pgd_eps1 = pd.read_csv('imagenet/pgd/eps8_255.csv')\n",
    "df_pgd_eps2 = pd.read_csv('imagenet/pgd/eps16_255.csv')\n",
    "df_pgd_eps3 = pd.read_csv('imagenet/pgd/eps32_255.csv')\n",
    "df_pgd_eps4 = pd.read_csv('imagenet/pgd/eps64_255.csv')\n",
    "\n",
    "\n",
    "#fgsm with five epsilons\n",
    "df_fgsm_eps1 = pd.read_csv('imagenet/fgsm/eps8_255.csv')\n",
    "df_fgsm_eps2 = pd.read_csv('imagenet/fgsm/eps16_255.csv')\n",
    "df_fgsm_eps3 = pd.read_csv('imagenet/fgsm/eps32_255.csv')\n",
    "df_fgsm_eps4 = pd.read_csv('imagenet/fgsm/eps64_255.csv')\n",
    "\n",
    "#bim with five epsilons\n",
    "df_bim_eps1 = pd.read_csv('imagenet/bim/eps8_255.csv')\n",
    "df_bim_eps2 = pd.read_csv('imagenet/bim/eps16_255.csv')\n",
    "df_bim_eps3 = pd.read_csv('imagenet/bim/eps32_255.csv')\n",
    "df_bim_eps4 = pd.read_csv('imagenet/bim/eps64_255.csv')\n",
    "\n",
    "#cw with four confidences\n",
    "df_cw_conf1 = pd.read_csv('imagenet/cw/conf_0.csv')\n",
    "df_cw_conf2 = pd.read_csv('imagenet/cw/conf_50.csv')"
   ]
  },
  {
   "cell_type": "code",
   "execution_count": 55,
   "id": "e513c621",
   "metadata": {},
   "outputs": [],
   "source": [
    "magnet1 = df_pgd_eps1.iloc[0].values.flatten().tolist()[1:]\n",
    "magnet2 = df_pgd_eps2.iloc[0].values.flatten().tolist()[1:]\n",
    "magnet3 = df_pgd_eps3.iloc[0].values.flatten().tolist()[1:]\n",
    "magnet4 = df_pgd_eps4.iloc[0].values.flatten().tolist()[1:]"
   ]
  },
  {
   "cell_type": "code",
   "execution_count": 56,
   "id": "d43a5c6f",
   "metadata": {
    "scrolled": true
   },
   "outputs": [
    {
     "name": "stdout",
     "output_type": "stream",
     "text": [
      "2.3928215353938187\n",
      "2.3976023976023977\n",
      "2.0937188434695915\n",
      "1.998001998001998\n",
      "---\n",
      "6.0817547357926225\n",
      "6.093906093906094\n",
      "5.583250249252243\n",
      "5.294705294705294\n",
      "---\n",
      "11.06679960119641\n",
      "10.789210789210788\n",
      "10.767696909272182\n",
      "10.589410589410589\n",
      "---\n"
     ]
    }
   ],
   "source": [
    "for th in threshold:\n",
    "    TPR = compute_tpr(magnet1, th)\n",
    "    print(TPR)\n",
    "    TPR = compute_tpr(magnet2, th)\n",
    "    print(TPR)\n",
    "    TPR = compute_tpr(magnet3, th)\n",
    "    print(TPR)\n",
    "    TPR = compute_tpr(magnet4, th)\n",
    "    print(TPR)\n",
    "    print('---')"
   ]
  },
  {
   "cell_type": "code",
   "execution_count": 57,
   "id": "4d3c9e90",
   "metadata": {},
   "outputs": [
    {
     "name": "stdout",
     "output_type": "stream",
     "text": [
      "1.1976047904191618\n",
      "1.1964107676969093\n",
      "1.0967098703888334\n",
      "1.1940298507462688\n",
      "---\n",
      "4.990019960079841\n",
      "5.18444666001994\n",
      "5.383848454636091\n",
      "5.771144278606965\n",
      "---\n",
      "9.980039920159681\n",
      "10.16949152542373\n",
      "10.767696909272182\n",
      "12.736318407960198\n",
      "---\n"
     ]
    }
   ],
   "source": [
    "magnet1 = df_fgsm_eps1.iloc[0].values.flatten().tolist()[1:]\n",
    "magnet2 = df_fgsm_eps2.iloc[0].values.flatten().tolist()[1:]\n",
    "magnet3 = df_fgsm_eps3.iloc[0].values.flatten().tolist()[1:]\n",
    "magnet4 = df_fgsm_eps4.iloc[0].values.flatten().tolist()[1:]\n",
    "\n",
    "\n",
    "for th in threshold:\n",
    "    TPR = compute_tpr(magnet1, th)\n",
    "    print(TPR)\n",
    "    TPR = compute_tpr(magnet2, th)\n",
    "    print(TPR)\n",
    "    TPR = compute_tpr(magnet3, th)\n",
    "    print(TPR)\n",
    "    TPR = compute_tpr(magnet4, th)\n",
    "    print(TPR)\n",
    "    print('---')"
   ]
  },
  {
   "cell_type": "code",
   "execution_count": 58,
   "id": "b748e7f2",
   "metadata": {},
   "outputs": [
    {
     "name": "stdout",
     "output_type": "stream",
     "text": [
      "0.4985044865403789\n",
      "0.29940119760479045\n",
      "0.09950248756218905\n",
      "1.1940298507462688\n",
      "---\n",
      "2.8913260219341974\n",
      "2.3952095808383236\n",
      "1.2935323383084576\n",
      "5.771144278606965\n",
      "---\n",
      "7.377866400797608\n",
      "5.788423153692615\n",
      "3.7810945273631837\n",
      "12.736318407960198\n",
      "---\n"
     ]
    }
   ],
   "source": [
    "magnet1 = df_bim_eps1.iloc[0].values.flatten().tolist()[1:]\n",
    "magnet2 = df_bim_eps2.iloc[0].values.flatten().tolist()[1:]\n",
    "magnet3 = df_bim_eps3.iloc[0].values.flatten().tolist()[1:]\n",
    "magnet4 = df_fgsm_eps4.iloc[0].values.flatten().tolist()[1:]\n",
    "\n",
    "\n",
    "for th in threshold:\n",
    "    TPR = compute_tpr(magnet1, th)\n",
    "    print(TPR)\n",
    "    TPR = compute_tpr(magnet2, th)\n",
    "    print(TPR)\n",
    "    TPR = compute_tpr(magnet3, th)\n",
    "    print(TPR)\n",
    "    TPR = compute_tpr(magnet4, th)\n",
    "    print(TPR)\n",
    "    print('---')"
   ]
  },
  {
   "cell_type": "code",
   "execution_count": 59,
   "id": "cb5d91e7",
   "metadata": {},
   "outputs": [
    {
     "name": "stdout",
     "output_type": "stream",
     "text": [
      "0.6979062811565304\n",
      "0.6979062811565304\n",
      "----\n",
      "1.8943170488534395\n",
      "1.8943170488534395\n",
      "----\n",
      "3.988035892323031\n",
      "3.988035892323031\n",
      "----\n"
     ]
    }
   ],
   "source": [
    "magnet1 = df_cw_conf1.iloc[0].values.flatten().tolist()[1:]\n",
    "magnet2 = df_cw_conf2.iloc[0].values.flatten().tolist()[1:]\n",
    "\n",
    "for th in threshold:\n",
    "    TPR = compute_tpr(magnet1, th)\n",
    "    print(TPR)\n",
    "    TPR = compute_tpr(magnet2, th)\n",
    "    print(TPR)\n",
    "    print('----')"
   ]
  },
  {
   "cell_type": "code",
   "execution_count": null,
   "id": "b3f36248",
   "metadata": {},
   "outputs": [],
   "source": []
  },
  {
   "cell_type": "markdown",
   "id": "ac1de930",
   "metadata": {},
   "source": [
    "# Check test FPR"
   ]
  },
  {
   "cell_type": "code",
   "execution_count": 60,
   "id": "99056f1c",
   "metadata": {},
   "outputs": [],
   "source": [
    "df_cifar = pd.read_csv(\"imagenet/Test_Benign_IMAGENET_Metrics.csv\")"
   ]
  },
  {
   "cell_type": "code",
   "execution_count": 61,
   "id": "96522819",
   "metadata": {},
   "outputs": [
    {
     "data": {
      "text/html": [
       "<div>\n",
       "<style scoped>\n",
       "    .dataframe tbody tr th:only-of-type {\n",
       "        vertical-align: middle;\n",
       "    }\n",
       "\n",
       "    .dataframe tbody tr th {\n",
       "        vertical-align: top;\n",
       "    }\n",
       "\n",
       "    .dataframe thead th {\n",
       "        text-align: right;\n",
       "    }\n",
       "</style>\n",
       "<table border=\"1\" class=\"dataframe\">\n",
       "  <thead>\n",
       "    <tr style=\"text-align: right;\">\n",
       "      <th></th>\n",
       "      <th>Unnamed: 0</th>\n",
       "      <th>0</th>\n",
       "      <th>1</th>\n",
       "      <th>2</th>\n",
       "      <th>3</th>\n",
       "      <th>4</th>\n",
       "      <th>5</th>\n",
       "      <th>6</th>\n",
       "      <th>7</th>\n",
       "      <th>8</th>\n",
       "      <th>...</th>\n",
       "      <th>3050</th>\n",
       "      <th>3051</th>\n",
       "      <th>3052</th>\n",
       "      <th>3053</th>\n",
       "      <th>3054</th>\n",
       "      <th>3055</th>\n",
       "      <th>3056</th>\n",
       "      <th>3057</th>\n",
       "      <th>3058</th>\n",
       "      <th>3059</th>\n",
       "    </tr>\n",
       "  </thead>\n",
       "  <tbody>\n",
       "    <tr>\n",
       "      <th>0</th>\n",
       "      <td>reconstruction error l1</td>\n",
       "      <td>0.267403</td>\n",
       "      <td>0.600209</td>\n",
       "      <td>0.518619</td>\n",
       "      <td>0.453901</td>\n",
       "      <td>0.533193</td>\n",
       "      <td>0.480909</td>\n",
       "      <td>0.154535</td>\n",
       "      <td>0.451119</td>\n",
       "      <td>0.398895</td>\n",
       "      <td>...</td>\n",
       "      <td>0.5772</td>\n",
       "      <td>0.047127</td>\n",
       "      <td>0.355181</td>\n",
       "      <td>0.054883</td>\n",
       "      <td>0.280507</td>\n",
       "      <td>0.159551</td>\n",
       "      <td>0.626549</td>\n",
       "      <td>0.192693</td>\n",
       "      <td>0.39751</td>\n",
       "      <td>0.373745</td>\n",
       "    </tr>\n",
       "  </tbody>\n",
       "</table>\n",
       "<p>1 rows × 3061 columns</p>\n",
       "</div>"
      ],
      "text/plain": [
       "                Unnamed: 0         0         1         2         3         4   \n",
       "0  reconstruction error l1  0.267403  0.600209  0.518619  0.453901  0.533193  \\\n",
       "\n",
       "          5         6         7         8  ...    3050      3051      3052   \n",
       "0  0.480909  0.154535  0.451119  0.398895  ...  0.5772  0.047127  0.355181  \\\n",
       "\n",
       "       3053      3054      3055      3056      3057     3058      3059  \n",
       "0  0.054883  0.280507  0.159551  0.626549  0.192693  0.39751  0.373745  \n",
       "\n",
       "[1 rows x 3061 columns]"
      ]
     },
     "execution_count": 61,
     "metadata": {},
     "output_type": "execute_result"
    }
   ],
   "source": [
    "df_cifar"
   ]
  },
  {
   "cell_type": "code",
   "execution_count": 62,
   "id": "6f74842f",
   "metadata": {},
   "outputs": [],
   "source": [
    "recon = df_cifar.iloc[0].values.flatten().tolist()[1:]\n",
    "threshold = [0.75560617446899415, 0.6121619939804077, 0.5275646448135376]"
   ]
  },
  {
   "cell_type": "code",
   "execution_count": 63,
   "id": "88d48099",
   "metadata": {},
   "outputs": [],
   "source": [
    "def compute_FPR(ben, threshold): \n",
    "    TN=0\n",
    "    FN=0\n",
    "    FP = 0 \n",
    "    TP=0\n",
    "    \n",
    "    for value in ben: \n",
    "        if value<threshold:\n",
    "            TN += 1\n",
    "        else: \n",
    "            FP += 1\n",
    "    \n",
    "    \n",
    "    return (FP/(TN+FP))*100"
   ]
  },
  {
   "cell_type": "code",
   "execution_count": 64,
   "id": "6709ff16",
   "metadata": {},
   "outputs": [
    {
     "name": "stdout",
     "output_type": "stream",
     "text": [
      "1.6993464052287581\n",
      "5.42483660130719\n",
      "10.42483660130719\n"
     ]
    }
   ],
   "source": [
    "for th in threshold:\n",
    "    FPR = compute_FPR(recon, th)\n",
    "    print(FPR)"
   ]
  },
  {
   "cell_type": "markdown",
   "id": "40ce57c1",
   "metadata": {},
   "source": [
    "# Compute ROC AUC score"
   ]
  },
  {
   "cell_type": "code",
   "execution_count": 65,
   "id": "f79464fb",
   "metadata": {},
   "outputs": [],
   "source": [
    "df_cifar = pd.read_csv(\"imagenet/Test_Benign_IMAGENET_Metrics.csv\")\n",
    "recon = df_cifar.iloc[0].values.flatten().tolist()[1:]"
   ]
  },
  {
   "cell_type": "code",
   "execution_count": 66,
   "id": "76d0b599",
   "metadata": {},
   "outputs": [
    {
     "data": {
      "text/plain": [
       "(0.0211200155317783, 0.9809721112251282)"
      ]
     },
     "execution_count": 66,
     "metadata": {},
     "output_type": "execute_result"
    }
   ],
   "source": [
    "min(recon), max(recon)"
   ]
  },
  {
   "cell_type": "code",
   "execution_count": 67,
   "id": "a5695e9e",
   "metadata": {},
   "outputs": [],
   "source": [
    "threshold = [0.98, 0.88, 0.80, 0.75560617446899415, 0.6121619939804077, 0.5275646448135376, 0.43, 0.33, 0.22, 0.12, 0.02]"
   ]
  },
  {
   "cell_type": "code",
   "execution_count": 68,
   "id": "7dd6918c",
   "metadata": {},
   "outputs": [
    {
     "name": "stdout",
     "output_type": "stream",
     "text": [
      "[0.00032679738562091496, 0.00196078431372549, 0.010130718954248365, 0.01699346405228758, 0.0542483660130719, 0.1042483660130719, 0.2352941176470588, 0.4473856209150327, 0.7382352941176471, 0.9297385620915033, 1.0]\n"
     ]
    }
   ],
   "source": [
    "fpr_results = []\n",
    "for th in threshold:\n",
    "    FPR = compute_FPR(recon, th)\n",
    "    fpr_results.append(FPR/100)\n",
    "print(fpr_results)"
   ]
  },
  {
   "cell_type": "code",
   "execution_count": 69,
   "id": "2d4d5840",
   "metadata": {},
   "outputs": [],
   "source": [
    "#pgd with five epsilons\n",
    "df_pgd_eps1 = pd.read_csv('imagenet/pgd/eps8_255.csv')\n",
    "df_pgd_eps2 = pd.read_csv('imagenet/pgd/eps16_255.csv')\n",
    "df_pgd_eps3 = pd.read_csv('imagenet/pgd/eps32_255.csv')\n",
    "df_pgd_eps4 = pd.read_csv('imagenet/pgd/eps64_255.csv')\n",
    "\n",
    "\n",
    "#fgsm with five epsilons\n",
    "df_fgsm_eps1 = pd.read_csv('imagenet/fgsm/eps8_255.csv')\n",
    "df_fgsm_eps2 = pd.read_csv('imagenet/fgsm/eps16_255.csv')\n",
    "df_fgsm_eps3 = pd.read_csv('imagenet/fgsm/eps32_255.csv')\n",
    "df_fgsm_eps4 = pd.read_csv('imagenet/fgsm/eps64_255.csv')\n",
    "\n",
    "#bim with five epsilons\n",
    "df_bim_eps1 = pd.read_csv('imagenet/bim/eps8_255.csv')\n",
    "df_bim_eps2 = pd.read_csv('imagenet/bim/eps16_255.csv')\n",
    "df_bim_eps3 = pd.read_csv('imagenet/bim/eps32_255.csv')\n",
    "df_bim_eps4 = pd.read_csv('imagenet/bim/eps64_255.csv')\n",
    "\n",
    "#cw with four confidences\n",
    "df_cw_conf1 = pd.read_csv('imagenet/cw/conf_0.csv')\n",
    "df_cw_conf2 = pd.read_csv('imagenet/cw/conf_50.csv')"
   ]
  },
  {
   "cell_type": "code",
   "execution_count": 70,
   "id": "afb2287e",
   "metadata": {},
   "outputs": [],
   "source": [
    "def compute_TPR(adv, threshold): \n",
    "    TN=0\n",
    "    FN=0\n",
    "    FP = 0 \n",
    "    TP=0\n",
    "    \n",
    "    for value in adv: \n",
    "        if value>threshold:\n",
    "            TP += 1\n",
    "        else: \n",
    "            FN += 1\n",
    "    \n",
    "    \n",
    "    return (TP/(TP+FN))*100"
   ]
  },
  {
   "cell_type": "code",
   "execution_count": 71,
   "id": "814180a4",
   "metadata": {},
   "outputs": [],
   "source": [
    "def compute_auc(adv_list, th): \n",
    "    tpr_results = []\n",
    "    for th in threshold:\n",
    "        TPR = compute_TPR(adv_list, th)\n",
    "        tpr_results.append(TPR/100)\n",
    "    return sklearn.metrics.auc(fpr_results, tpr_results)"
   ]
  },
  {
   "cell_type": "code",
   "execution_count": 72,
   "id": "628e4711",
   "metadata": {},
   "outputs": [
    {
     "name": "stdout",
     "output_type": "stream",
     "text": [
      "0.5118981291419858\n",
      "0.5199493317140376\n",
      "0.5270005343446784\n",
      "0.5609449374155256\n"
     ]
    }
   ],
   "source": [
    "import sklearn\n",
    "from sklearn.metrics import roc_auc_score\n",
    "\n",
    "feature_squeezer_1 = df_pgd_eps1.iloc[0].values.flatten().tolist()[1:]\n",
    "feature_squeezer_2 = df_pgd_eps2.iloc[0].values.flatten().tolist()[1:]\n",
    "feature_squeezer_3 = df_pgd_eps3.iloc[0].values.flatten().tolist()[1:]\n",
    "feature_squeezer_4 = df_pgd_eps4.iloc[0].values.flatten().tolist()[1:]\n",
    "\n",
    "print(compute_auc(feature_squeezer_1, threshold))\n",
    "print(compute_auc(feature_squeezer_2, threshold))\n",
    "print(compute_auc(feature_squeezer_3, threshold))\n",
    "print(compute_auc(feature_squeezer_4, threshold))"
   ]
  },
  {
   "cell_type": "code",
   "execution_count": 73,
   "id": "c63ef43a",
   "metadata": {},
   "outputs": [
    {
     "name": "stdout",
     "output_type": "stream",
     "text": [
      "0.4997699046351741\n",
      "0.5076518809584318\n",
      "0.5318707276862225\n",
      "0.6174753682567554\n"
     ]
    }
   ],
   "source": [
    "feature_squeezer_1 = df_fgsm_eps1.iloc[0].values.flatten().tolist()[1:]\n",
    "feature_squeezer_2 = df_fgsm_eps2.iloc[0].values.flatten().tolist()[1:]\n",
    "feature_squeezer_3 = df_fgsm_eps3.iloc[0].values.flatten().tolist()[1:]\n",
    "feature_squeezer_4 = df_fgsm_eps4.iloc[0].values.flatten().tolist()[1:]\n",
    "\n",
    "print(compute_auc(feature_squeezer_1, threshold))\n",
    "print(compute_auc(feature_squeezer_2, threshold))\n",
    "print(compute_auc(feature_squeezer_3, threshold))\n",
    "print(compute_auc(feature_squeezer_4, threshold))"
   ]
  },
  {
   "cell_type": "code",
   "execution_count": 74,
   "id": "53ac4e9a",
   "metadata": {
    "scrolled": true
   },
   "outputs": [
    {
     "name": "stdout",
     "output_type": "stream",
     "text": [
      "0.4522290970226575\n",
      "0.43037226201192386\n",
      "0.38574691899977237\n",
      "0.30069623466916645\n"
     ]
    }
   ],
   "source": [
    "feature_squeezer_1 = df_bim_eps1.iloc[0].values.flatten().tolist()[1:]\n",
    "feature_squeezer_2 = df_bim_eps2.iloc[0].values.flatten().tolist()[1:]\n",
    "feature_squeezer_3 = df_bim_eps3.iloc[0].values.flatten().tolist()[1:]\n",
    "feature_squeezer_4 = df_bim_eps4.iloc[0].values.flatten().tolist()[1:]\n",
    "\n",
    "print(compute_auc(feature_squeezer_1, threshold))\n",
    "print(compute_auc(feature_squeezer_2, threshold))\n",
    "print(compute_auc(feature_squeezer_3, threshold))\n",
    "print(compute_auc(feature_squeezer_4, threshold))"
   ]
  },
  {
   "cell_type": "code",
   "execution_count": 75,
   "id": "2a4bd887",
   "metadata": {},
   "outputs": [
    {
     "name": "stdout",
     "output_type": "stream",
     "text": [
      "0.16764510390397433\n",
      "0.16764510390397433\n"
     ]
    }
   ],
   "source": [
    "feature_squeezer_1 = df_cw_conf1.iloc[0].values.flatten().tolist()[1:]\n",
    "feature_squeezer_2 = df_cw_conf2.iloc[0].values.flatten().tolist()[1:]\n",
    "\n",
    "print(compute_auc(feature_squeezer_1, threshold))\n",
    "print(compute_auc(feature_squeezer_2, threshold))"
   ]
  },
  {
   "cell_type": "code",
   "execution_count": null,
   "id": "e078c7d0",
   "metadata": {},
   "outputs": [],
   "source": []
  }
 ],
 "metadata": {
  "kernelspec": {
   "display_name": "adv_detection",
   "language": "python",
   "name": "adv_detection"
  },
  "language_info": {
   "codemirror_mode": {
    "name": "ipython",
    "version": 3
   },
   "file_extension": ".py",
   "mimetype": "text/x-python",
   "name": "python",
   "nbconvert_exporter": "python",
   "pygments_lexer": "ipython3",
   "version": "3.8.10"
  }
 },
 "nbformat": 4,
 "nbformat_minor": 5
}
