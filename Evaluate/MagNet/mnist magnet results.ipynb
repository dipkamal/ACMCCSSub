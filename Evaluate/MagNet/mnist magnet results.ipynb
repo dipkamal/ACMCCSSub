{
 "cells": [
  {
   "cell_type": "markdown",
   "id": "12121fc2",
   "metadata": {},
   "source": [
    "# Use the results from magnet training to compute TPR, FPR and AUC"
   ]
  },
  {
   "cell_type": "code",
   "execution_count": 217,
   "id": "08d8ca98",
   "metadata": {},
   "outputs": [],
   "source": [
    "import numpy as np\n",
    "from scipy.stats import entropy\n",
    "from scipy import ndimage"
   ]
  },
  {
   "cell_type": "code",
   "execution_count": 218,
   "id": "0907725d",
   "metadata": {},
   "outputs": [],
   "source": [
    "import numpy as np\n",
    "import pandas as pd\n",
    "import torch\n",
    "import torch.nn as nn\n",
    "import torch.nn.functional as F\n",
    "import torchvision\n",
    "from torch.utils.data import DataLoader\n",
    "import torchvision.transforms as transforms"
   ]
  },
  {
   "cell_type": "code",
   "execution_count": 219,
   "id": "0869d969",
   "metadata": {},
   "outputs": [],
   "source": [
    "def train_fs(distances, train_fpr):\n",
    "    selected_distance_idx = int(np.ceil(len(distances) * (1-train_fpr)))\n",
    "    threshold = sorted(distances)[selected_distance_idx-1]\n",
    "    threshold = threshold\n",
    "    #print (\"Threshold value: %f\" % threshold)\n",
    "    return threshold"
   ]
  },
  {
   "cell_type": "code",
   "execution_count": 220,
   "id": "6351b2cb",
   "metadata": {},
   "outputs": [],
   "source": [
    "def test(model, dataset, X, threshold):\n",
    "    distances = get_distance_test(model, dataset, X)\n",
    "    Y_pred = distances > threshold\n",
    "    return Y_pred, distances"
   ]
  },
  {
   "cell_type": "code",
   "execution_count": 221,
   "id": "f2a14ac8",
   "metadata": {},
   "outputs": [],
   "source": [
    "def compute_distance(model, dataset, X):\n",
    "    distances = get_distance_test(model, dataset, X)\n",
    "    return distances"
   ]
  },
  {
   "cell_type": "code",
   "execution_count": 222,
   "id": "6aa3cf8e",
   "metadata": {},
   "outputs": [],
   "source": [
    "def get_tpr_fpr(true_labels, pred_labels):\n",
    "    TP = np.sum(np.logical_and(pred_labels == 1, true_labels == 1))\n",
    "    FP = np.sum(np.logical_and(pred_labels == 1, true_labels == 0))\n",
    "\n",
    "    AP = np.sum(true_labels)\n",
    "    AN = np.sum(1-true_labels)\n",
    "\n",
    "    tpr = TP/AP if AP>0 else np.nan\n",
    "    fpr = FP/AN if AN>0 else np.nan\n",
    "\n",
    "    return tpr, fpr, TP, AP, FP, AN"
   ]
  },
  {
   "cell_type": "code",
   "execution_count": 223,
   "id": "bef22514",
   "metadata": {},
   "outputs": [],
   "source": [
    "def evaluate_test(model, x_test, threshold, dataset):\n",
    "    Y_all = np.concatenate([np.ones(len(x_test), dtype=bool)])\n",
    "    #print(Y_all)\n",
    "    Y_all_pred, Y_all_pred_score = test(model, dataset, x_test, threshold)\n",
    "    tpr, fpr, tp, ap, fp, an = get_tpr_fpr(Y_all, Y_all_pred)\n",
    "    return tpr\n",
    "                                           "
   ]
  },
  {
   "cell_type": "markdown",
   "id": "1e502424",
   "metadata": {},
   "source": [
    "# MNIST thresholds"
   ]
  },
  {
   "cell_type": "code",
   "execution_count": 224,
   "id": "b829e434",
   "metadata": {},
   "outputs": [],
   "source": [
    "import pandas as pd\n",
    "import numpy as np"
   ]
  },
  {
   "cell_type": "code",
   "execution_count": 225,
   "id": "c00f28ca",
   "metadata": {},
   "outputs": [],
   "source": [
    "#train data\n",
    "df_mnist = pd.read_csv(\"mnist/Benign_MNIST_Metrics.csv\")"
   ]
  },
  {
   "cell_type": "code",
   "execution_count": 226,
   "id": "68fabf49",
   "metadata": {},
   "outputs": [
    {
     "data": {
      "text/html": [
       "<div>\n",
       "<style scoped>\n",
       "    .dataframe tbody tr th:only-of-type {\n",
       "        vertical-align: middle;\n",
       "    }\n",
       "\n",
       "    .dataframe tbody tr th {\n",
       "        vertical-align: top;\n",
       "    }\n",
       "\n",
       "    .dataframe thead th {\n",
       "        text-align: right;\n",
       "    }\n",
       "</style>\n",
       "<table border=\"1\" class=\"dataframe\">\n",
       "  <thead>\n",
       "    <tr style=\"text-align: right;\">\n",
       "      <th></th>\n",
       "      <th>Unnamed: 0</th>\n",
       "      <th>0</th>\n",
       "      <th>1</th>\n",
       "      <th>2</th>\n",
       "      <th>3</th>\n",
       "      <th>4</th>\n",
       "      <th>5</th>\n",
       "      <th>6</th>\n",
       "      <th>7</th>\n",
       "      <th>8</th>\n",
       "      <th>...</th>\n",
       "      <th>3050</th>\n",
       "      <th>3051</th>\n",
       "      <th>3052</th>\n",
       "      <th>3053</th>\n",
       "      <th>3054</th>\n",
       "      <th>3055</th>\n",
       "      <th>3056</th>\n",
       "      <th>3057</th>\n",
       "      <th>3058</th>\n",
       "      <th>3059</th>\n",
       "    </tr>\n",
       "  </thead>\n",
       "  <tbody>\n",
       "    <tr>\n",
       "      <th>0</th>\n",
       "      <td>reconstruction error l1</td>\n",
       "      <td>0.015105</td>\n",
       "      <td>0.015935</td>\n",
       "      <td>0.012748</td>\n",
       "      <td>0.006415</td>\n",
       "      <td>0.012948</td>\n",
       "      <td>0.016538</td>\n",
       "      <td>0.006377</td>\n",
       "      <td>0.015353</td>\n",
       "      <td>0.004722</td>\n",
       "      <td>...</td>\n",
       "      <td>0.016145</td>\n",
       "      <td>0.015428</td>\n",
       "      <td>0.016076</td>\n",
       "      <td>0.01402</td>\n",
       "      <td>0.013324</td>\n",
       "      <td>0.013312</td>\n",
       "      <td>0.009356</td>\n",
       "      <td>0.016205</td>\n",
       "      <td>0.01699</td>\n",
       "      <td>0.00804</td>\n",
       "    </tr>\n",
       "  </tbody>\n",
       "</table>\n",
       "<p>1 rows × 3061 columns</p>\n",
       "</div>"
      ],
      "text/plain": [
       "                Unnamed: 0         0         1         2         3         4   \n",
       "0  reconstruction error l1  0.015105  0.015935  0.012748  0.006415  0.012948  \\\n",
       "\n",
       "          5         6         7         8  ...      3050      3051      3052   \n",
       "0  0.016538  0.006377  0.015353  0.004722  ...  0.016145  0.015428  0.016076  \\\n",
       "\n",
       "      3053      3054      3055      3056      3057     3058     3059  \n",
       "0  0.01402  0.013324  0.013312  0.009356  0.016205  0.01699  0.00804  \n",
       "\n",
       "[1 rows x 3061 columns]"
      ]
     },
     "execution_count": 226,
     "metadata": {},
     "output_type": "execute_result"
    }
   ],
   "source": [
    "df_mnist"
   ]
  },
  {
   "cell_type": "code",
   "execution_count": 227,
   "id": "aac7ae59",
   "metadata": {},
   "outputs": [],
   "source": [
    "recon_error_benign = df_mnist.iloc[0].values.flatten().tolist()[1:]"
   ]
  },
  {
   "cell_type": "code",
   "execution_count": 228,
   "id": "70e077ea",
   "metadata": {},
   "outputs": [
    {
     "data": {
      "text/plain": [
       "(0.0036156065762043, 0.0322329066693782)"
      ]
     },
     "execution_count": 228,
     "metadata": {},
     "output_type": "execute_result"
    }
   ],
   "source": [
    "min(recon_error_benign), max(recon_error_benign)"
   ]
  },
  {
   "cell_type": "code",
   "execution_count": 229,
   "id": "cd1ac015",
   "metadata": {},
   "outputs": [
    {
     "name": "stdout",
     "output_type": "stream",
     "text": [
      "0.024143386632204\n",
      "0.0202457662671804\n",
      "0.0184789914637804\n"
     ]
    }
   ],
   "source": [
    "fpr = [0.01, 0.05, 0.1] \n",
    "for train_fpr in fpr: \n",
    "    print(train_fs(recon_error_benign, train_fpr))"
   ]
  },
  {
   "cell_type": "code",
   "execution_count": 230,
   "id": "eda92555",
   "metadata": {},
   "outputs": [],
   "source": [
    "threshold = [0.0227928031235933, 0.0195839405059814, 0.0180920865386724]"
   ]
  },
  {
   "cell_type": "markdown",
   "id": "6ec2abf9",
   "metadata": {},
   "source": [
    "# now compute TPR"
   ]
  },
  {
   "cell_type": "code",
   "execution_count": 231,
   "id": "3ec4299d",
   "metadata": {},
   "outputs": [],
   "source": [
    "def compute_tpr(adv, threshold): \n",
    "    TN=0\n",
    "    FN=0\n",
    "    FP = 0 \n",
    "    TP=0\n",
    "    \n",
    "    for value in adv: \n",
    "        if value>threshold:\n",
    "            TP += 1\n",
    "        else: \n",
    "            FN += 1\n",
    "    \n",
    "    \n",
    "    return (TP/(TP+FN))*100"
   ]
  },
  {
   "cell_type": "code",
   "execution_count": 232,
   "id": "6401d541",
   "metadata": {},
   "outputs": [],
   "source": [
    "#pgd with five epsilons\n",
    "df_pgd_eps1 = pd.read_csv('mnist/pgd/eps8_255.csv')\n",
    "df_pgd_eps2 = pd.read_csv('mnist/pgd/eps16_255.csv')\n",
    "df_pgd_eps3 = pd.read_csv('mnist/pgd/eps32_255.csv')\n",
    "df_pgd_eps4 = pd.read_csv('mnist/pgd/eps64_255.csv')\n",
    "\n",
    "\n",
    "#fgsm with five epsilons\n",
    "df_fgsm_eps1 = pd.read_csv('mnist/fgsm/eps8_255.csv')\n",
    "df_fgsm_eps2 = pd.read_csv('mnist/fgsm/eps16_255.csv')\n",
    "df_fgsm_eps3 = pd.read_csv('mnist/fgsm/eps32_255.csv')\n",
    "df_fgsm_eps4 = pd.read_csv('mnist/fgsm/eps64_255.csv')\n",
    "\n",
    "#bim with five epsilons\n",
    "df_bim_eps1 = pd.read_csv('mnist/bim/eps8_255.csv')\n",
    "df_bim_eps2 = pd.read_csv('mnist/bim/eps16_255.csv')\n",
    "df_bim_eps3 = pd.read_csv('mnist/bim/eps32_255.csv')\n",
    "df_bim_eps4 = pd.read_csv('mnist/bim/eps64_255.csv')\n",
    "\n",
    "#cw with four confidences\n",
    "df_cw_conf1 = pd.read_csv('mnist/cw/conf_0.csv')\n",
    "df_cw_conf2 = pd.read_csv('mnist/cw/conf_50.csv')"
   ]
  },
  {
   "cell_type": "code",
   "execution_count": null,
   "id": "db990005",
   "metadata": {},
   "outputs": [],
   "source": []
  },
  {
   "cell_type": "code",
   "execution_count": 233,
   "id": "e513c621",
   "metadata": {},
   "outputs": [],
   "source": [
    "magnet1 = df_pgd_eps1.iloc[0].values.flatten().tolist()[1:]\n",
    "magnet2 = df_pgd_eps2.iloc[0].values.flatten().tolist()[1:]\n",
    "magnet3 = df_pgd_eps3.iloc[0].values.flatten().tolist()[1:]\n",
    "magnet4 = df_pgd_eps4.iloc[0].values.flatten().tolist()[1:]"
   ]
  },
  {
   "cell_type": "code",
   "execution_count": 234,
   "id": "d43a5c6f",
   "metadata": {
    "scrolled": true
   },
   "outputs": [
    {
     "name": "stdout",
     "output_type": "stream",
     "text": [
      "87.80841799709724\n",
      "100.0\n",
      "100.0\n",
      "100.0\n",
      "---\n",
      "99.85486211901306\n",
      "100.0\n",
      "100.0\n",
      "100.0\n",
      "---\n",
      "100.0\n",
      "100.0\n",
      "100.0\n",
      "100.0\n",
      "---\n"
     ]
    }
   ],
   "source": [
    "for th in threshold:\n",
    "    TPR = compute_tpr(magnet1, th)\n",
    "    print(TPR)\n",
    "    TPR = compute_tpr(magnet2, th)\n",
    "    print(TPR)\n",
    "    TPR = compute_tpr(magnet3, th)\n",
    "    print(TPR)\n",
    "    TPR = compute_tpr(magnet4, th)\n",
    "    print(TPR)\n",
    "    print('---')"
   ]
  },
  {
   "cell_type": "code",
   "execution_count": 235,
   "id": "4d3c9e90",
   "metadata": {},
   "outputs": [
    {
     "name": "stdout",
     "output_type": "stream",
     "text": [
      "82.04365079365078\n",
      "100.0\n",
      "100.0\n",
      "100.0\n",
      "---\n",
      "95.43650793650794\n",
      "100.0\n",
      "100.0\n",
      "100.0\n",
      "---\n",
      "98.31349206349206\n",
      "100.0\n",
      "100.0\n",
      "100.0\n",
      "---\n"
     ]
    }
   ],
   "source": [
    "magnet1 = df_fgsm_eps1.iloc[0].values.flatten().tolist()[1:]\n",
    "magnet2 = df_fgsm_eps2.iloc[0].values.flatten().tolist()[1:]\n",
    "magnet3 = df_fgsm_eps3.iloc[0].values.flatten().tolist()[1:]\n",
    "magnet4 = df_fgsm_eps4.iloc[0].values.flatten().tolist()[1:]\n",
    "\n",
    "\n",
    "for th in threshold:\n",
    "    TPR = compute_tpr(magnet1, th)\n",
    "    print(TPR)\n",
    "    TPR = compute_tpr(magnet2, th)\n",
    "    print(TPR)\n",
    "    TPR = compute_tpr(magnet3, th)\n",
    "    print(TPR)\n",
    "    TPR = compute_tpr(magnet4, th)\n",
    "    print(TPR)\n",
    "    print('---')"
   ]
  },
  {
   "cell_type": "code",
   "execution_count": 236,
   "id": "b748e7f2",
   "metadata": {},
   "outputs": [
    {
     "name": "stdout",
     "output_type": "stream",
     "text": [
      "50.69721115537848\n",
      "100.0\n",
      "100.0\n",
      "100.0\n",
      "---\n",
      "82.96812749003985\n",
      "100.0\n",
      "100.0\n",
      "100.0\n",
      "---\n",
      "90.5378486055777\n",
      "100.0\n",
      "100.0\n",
      "100.0\n",
      "---\n"
     ]
    }
   ],
   "source": [
    "magnet1 = df_bim_eps1.iloc[0].values.flatten().tolist()[1:]\n",
    "magnet2 = df_bim_eps2.iloc[0].values.flatten().tolist()[1:]\n",
    "magnet3 = df_bim_eps3.iloc[0].values.flatten().tolist()[1:]\n",
    "magnet4 = df_fgsm_eps4.iloc[0].values.flatten().tolist()[1:]\n",
    "\n",
    "\n",
    "for th in threshold:\n",
    "    TPR = compute_tpr(magnet1, th)\n",
    "    print(TPR)\n",
    "    TPR = compute_tpr(magnet2, th)\n",
    "    print(TPR)\n",
    "    TPR = compute_tpr(magnet3, th)\n",
    "    print(TPR)\n",
    "    TPR = compute_tpr(magnet4, th)\n",
    "    print(TPR)\n",
    "    print('---')"
   ]
  },
  {
   "cell_type": "code",
   "execution_count": 239,
   "id": "cb5d91e7",
   "metadata": {},
   "outputs": [
    {
     "name": "stdout",
     "output_type": "stream",
     "text": [
      "3.592814371257485\n",
      "3.592814371257485\n",
      "----\n",
      "9.980039920159681\n",
      "9.980039920159681\n",
      "----\n",
      "17.764471057884233\n",
      "17.764471057884233\n",
      "----\n"
     ]
    }
   ],
   "source": [
    "magnet1 = df_cw_conf1.iloc[0].values.flatten().tolist()[1:]\n",
    "magnet2 = df_cw_conf2.iloc[0].values.flatten().tolist()[1:]\n",
    "\n",
    "for th in threshold:\n",
    "    TPR = compute_tpr(magnet1, th)\n",
    "    print(TPR)\n",
    "    TPR = compute_tpr(magnet2, th)\n",
    "    print(TPR)\n",
    "    print('----')"
   ]
  },
  {
   "cell_type": "code",
   "execution_count": null,
   "id": "b3f36248",
   "metadata": {},
   "outputs": [],
   "source": []
  },
  {
   "cell_type": "markdown",
   "id": "ac1de930",
   "metadata": {},
   "source": [
    "# Check test FPR"
   ]
  },
  {
   "cell_type": "code",
   "execution_count": 240,
   "id": "99056f1c",
   "metadata": {},
   "outputs": [],
   "source": [
    "df_mnist = pd.read_csv(\"mnist/Test_Benign_MNIST_Metrics.csv\")"
   ]
  },
  {
   "cell_type": "code",
   "execution_count": 241,
   "id": "6f74842f",
   "metadata": {},
   "outputs": [],
   "source": [
    "recon = df_mnist.iloc[0].values.flatten().tolist()[1:]\n",
    "threshold = [0.0227928031235933, 0.0195839405059814, 0.0180920865386724]"
   ]
  },
  {
   "cell_type": "code",
   "execution_count": 242,
   "id": "88d48099",
   "metadata": {},
   "outputs": [],
   "source": [
    "def compute_FPR(ben, threshold): \n",
    "    TN=0\n",
    "    FN=0\n",
    "    FP = 0 \n",
    "    TP=0\n",
    "    \n",
    "    for value in ben: \n",
    "        if value<threshold:\n",
    "            TN += 1\n",
    "        else: \n",
    "            FP += 1\n",
    "    \n",
    "    \n",
    "    return (FP/(TN+FP))*100"
   ]
  },
  {
   "cell_type": "code",
   "execution_count": 243,
   "id": "6709ff16",
   "metadata": {},
   "outputs": [
    {
     "name": "stdout",
     "output_type": "stream",
     "text": [
      "1.5686274509803921\n",
      "6.176470588235294\n",
      "10.196078431372548\n"
     ]
    }
   ],
   "source": [
    "for th in threshold:\n",
    "    FPR = compute_FPR(recon, th)\n",
    "    print(FPR)"
   ]
  },
  {
   "cell_type": "markdown",
   "id": "40ce57c1",
   "metadata": {},
   "source": [
    "# Compute ROC AUC score"
   ]
  },
  {
   "cell_type": "code",
   "execution_count": 244,
   "id": "f79464fb",
   "metadata": {},
   "outputs": [],
   "source": [
    "df_mnist = pd.read_csv(\"mnist/Test_Benign_MNIST_Metrics.csv\")\n",
    "recon = df_mnist.iloc[0].values.flatten().tolist()[1:]"
   ]
  },
  {
   "cell_type": "code",
   "execution_count": 245,
   "id": "76d0b599",
   "metadata": {},
   "outputs": [
    {
     "data": {
      "text/plain": [
       "(0.0029677408747375, 0.0278869736939668)"
      ]
     },
     "execution_count": 245,
     "metadata": {},
     "output_type": "execute_result"
    }
   ],
   "source": [
    "min(recon), max(recon)"
   ]
  },
  {
   "cell_type": "code",
   "execution_count": 246,
   "id": "5c45d99c",
   "metadata": {},
   "outputs": [],
   "source": [
    "threshold = [0.0227928031235933, 0.0195839405059814, 0.0180920865386724, 0.017, 0.016, 0.015, 0.013, 0.012, 0.011, 0.004, 0.003]"
   ]
  },
  {
   "cell_type": "code",
   "execution_count": 107,
   "id": "7dd6918c",
   "metadata": {},
   "outputs": [
    {
     "name": "stdout",
     "output_type": "stream",
     "text": [
      "[0.01568627450980392, 0.061764705882352944, 0.10196078431372549, 0.1568627450980392, 0.22058823529411764, 0.2950980392156863, 0.4843137254901961, 0.6049019607843137, 0.7049019607843138, 0.9970588235294118, 0.9990196078431373]\n"
     ]
    }
   ],
   "source": [
    "fpr_results = []\n",
    "for th in threshold:\n",
    "    FPR = compute_FPR(recon, th)\n",
    "    fpr_results.append(FPR/100)\n",
    "print(fpr_results)"
   ]
  },
  {
   "cell_type": "code",
   "execution_count": 247,
   "id": "2d4d5840",
   "metadata": {},
   "outputs": [],
   "source": [
    "#pgd with five epsilons\n",
    "df_pgd_eps1 = pd.read_csv('mnist/pgd/eps8_255.csv')\n",
    "df_pgd_eps2 = pd.read_csv('mnist/pgd/eps16_255.csv')\n",
    "df_pgd_eps3 = pd.read_csv('mnist/pgd/eps32_255.csv')\n",
    "df_pgd_eps4 = pd.read_csv('mnist/pgd/eps64_255.csv')\n",
    "\n",
    "\n",
    "#fgsm with five epsilons\n",
    "df_fgsm_eps1 = pd.read_csv('mnist/fgsm/eps8_255.csv')\n",
    "df_fgsm_eps2 = pd.read_csv('mnist/fgsm/eps16_255.csv')\n",
    "df_fgsm_eps3 = pd.read_csv('mnist/fgsm/eps32_255.csv')\n",
    "df_fgsm_eps4 = pd.read_csv('mnist/fgsm/eps64_255.csv')\n",
    "\n",
    "#bim with five epsilons\n",
    "df_bim_eps1 = pd.read_csv('mnist/bim/eps8_255.csv')\n",
    "df_bim_eps2 = pd.read_csv('mnist/bim/eps16_255.csv')\n",
    "df_bim_eps3 = pd.read_csv('mnist/bim/eps32_255.csv')\n",
    "df_bim_eps4 = pd.read_csv('mnist/bim/eps64_255.csv')\n",
    "\n",
    "#cw with four confidences\n",
    "df_cw_conf1 = pd.read_csv('mnist/cw/conf_0.csv')\n",
    "df_cw_conf2 = pd.read_csv('mnist/cw/conf_50.csv')"
   ]
  },
  {
   "cell_type": "code",
   "execution_count": 248,
   "id": "afb2287e",
   "metadata": {},
   "outputs": [],
   "source": [
    "def compute_TPR(adv, threshold): \n",
    "    TN=0\n",
    "    FN=0\n",
    "    FP = 0 \n",
    "    TP=0\n",
    "    \n",
    "    for value in adv: \n",
    "        if value>threshold:\n",
    "            TP += 1\n",
    "        else: \n",
    "            FN += 1\n",
    "    \n",
    "    \n",
    "    return (TP/(TP+FN))*100"
   ]
  },
  {
   "cell_type": "code",
   "execution_count": 249,
   "id": "814180a4",
   "metadata": {},
   "outputs": [],
   "source": [
    "def compute_auc(adv_list, th): \n",
    "    tpr_results = []\n",
    "    for th in threshold:\n",
    "        TPR = compute_TPR(adv_list, th)\n",
    "        tpr_results.append(TPR/100)\n",
    "    return sklearn.metrics.auc(fpr_results, tpr_results)"
   ]
  },
  {
   "cell_type": "code",
   "execution_count": 250,
   "id": "628e4711",
   "metadata": {},
   "outputs": [
    {
     "name": "stdout",
     "output_type": "stream",
     "text": [
      "0.980461879962435\n",
      "0.9833333333333333\n",
      "0.9833333333333333\n",
      "0.9833333333333333\n"
     ]
    }
   ],
   "source": [
    "import sklearn\n",
    "from sklearn.metrics import roc_auc_score\n",
    "\n",
    "feature_squeezer_1 = df_pgd_eps1.iloc[0].values.flatten().tolist()[1:]\n",
    "feature_squeezer_2 = df_pgd_eps2.iloc[0].values.flatten().tolist()[1:]\n",
    "feature_squeezer_3 = df_pgd_eps3.iloc[0].values.flatten().tolist()[1:]\n",
    "feature_squeezer_4 = df_pgd_eps4.iloc[0].values.flatten().tolist()[1:]\n",
    "\n",
    "print(compute_auc(feature_squeezer_1, threshold))\n",
    "print(compute_auc(feature_squeezer_2, threshold))\n",
    "print(compute_auc(feature_squeezer_3, threshold))\n",
    "print(compute_auc(feature_squeezer_4, threshold))"
   ]
  },
  {
   "cell_type": "code",
   "execution_count": 251,
   "id": "c63ef43a",
   "metadata": {},
   "outputs": [
    {
     "name": "stdout",
     "output_type": "stream",
     "text": [
      "0.9754911686896981\n",
      "0.9833333333333333\n",
      "0.9833333333333333\n",
      "0.9833333333333333\n"
     ]
    }
   ],
   "source": [
    "feature_squeezer_1 = df_fgsm_eps1.iloc[0].values.flatten().tolist()[1:]\n",
    "feature_squeezer_2 = df_fgsm_eps2.iloc[0].values.flatten().tolist()[1:]\n",
    "feature_squeezer_3 = df_fgsm_eps3.iloc[0].values.flatten().tolist()[1:]\n",
    "feature_squeezer_4 = df_fgsm_eps4.iloc[0].values.flatten().tolist()[1:]\n",
    "\n",
    "print(compute_auc(feature_squeezer_1, threshold))\n",
    "print(compute_auc(feature_squeezer_2, threshold))\n",
    "print(compute_auc(feature_squeezer_3, threshold))\n",
    "print(compute_auc(feature_squeezer_4, threshold))"
   ]
  },
  {
   "cell_type": "code",
   "execution_count": 252,
   "id": "53ac4e9a",
   "metadata": {
    "scrolled": true
   },
   "outputs": [
    {
     "name": "stdout",
     "output_type": "stream",
     "text": [
      "0.9553570033591126\n",
      "0.9833333333333333\n",
      "0.9833333333333333\n",
      "0.9833333333333333\n"
     ]
    }
   ],
   "source": [
    "feature_squeezer_1 = df_bim_eps1.iloc[0].values.flatten().tolist()[1:]\n",
    "feature_squeezer_2 = df_bim_eps2.iloc[0].values.flatten().tolist()[1:]\n",
    "feature_squeezer_3 = df_bim_eps3.iloc[0].values.flatten().tolist()[1:]\n",
    "feature_squeezer_4 = df_bim_eps4.iloc[0].values.flatten().tolist()[1:]\n",
    "\n",
    "print(compute_auc(feature_squeezer_1, threshold))\n",
    "print(compute_auc(feature_squeezer_2, threshold))\n",
    "print(compute_auc(feature_squeezer_3, threshold))\n",
    "print(compute_auc(feature_squeezer_4, threshold))"
   ]
  },
  {
   "cell_type": "code",
   "execution_count": 255,
   "id": "2a4bd887",
   "metadata": {},
   "outputs": [
    {
     "name": "stdout",
     "output_type": "stream",
     "text": [
      "0.5821660600367893\n",
      "0.5821660600367893\n"
     ]
    }
   ],
   "source": [
    "feature_squeezer_1 = df_cw_conf1.iloc[0].values.flatten().tolist()[1:]\n",
    "feature_squeezer_2 = df_cw_conf2.iloc[0].values.flatten().tolist()[1:]\n",
    "\n",
    "print(compute_auc(feature_squeezer_1, threshold))\n",
    "print(compute_auc(feature_squeezer_2, threshold))"
   ]
  }
 ],
 "metadata": {
  "kernelspec": {
   "display_name": "adv_detection",
   "language": "python",
   "name": "adv_detection"
  },
  "language_info": {
   "codemirror_mode": {
    "name": "ipython",
    "version": 3
   },
   "file_extension": ".py",
   "mimetype": "text/x-python",
   "name": "python",
   "nbconvert_exporter": "python",
   "pygments_lexer": "ipython3",
   "version": "3.8.10"
  }
 },
 "nbformat": 4,
 "nbformat_minor": 5
}
