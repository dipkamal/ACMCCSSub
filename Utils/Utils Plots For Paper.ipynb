{
 "cells": [
  {
   "cell_type": "code",
   "execution_count": 1,
   "id": "022e61c2",
   "metadata": {},
   "outputs": [],
   "source": [
    "from torchvision import datasets, transforms\n",
    "from torch.utils.data import DataLoader\n",
    "import matplotlib.pyplot as plt\n",
    "import numpy as np\n",
    "from cleverhans.torch.attacks.fast_gradient_method import fast_gradient_method\n",
    "import torch.nn as nn\n",
    "import torchvision\n",
    "from torch.utils.data import DataLoader\n",
    "import torchvision.transforms as transforms\n",
    "import torch.nn.functional as F\n",
    "import torch.optim as optim\n",
    "from captum.attr import *\n",
    "import quantus\n",
    "import gc"
   ]
  },
  {
   "cell_type": "code",
   "execution_count": 83,
   "id": "74228917",
   "metadata": {},
   "outputs": [],
   "source": [
    "mnist_train = datasets.MNIST(\"../data\", train=True, download=True, transform=transforms.ToTensor())\n",
    "mnist_test = datasets.MNIST(\"../data\", train=False, download=True, transform=transforms.ToTensor())\n",
    "train_loader = DataLoader(mnist_train, batch_size = 5, shuffle=True)\n",
    "test_loader = DataLoader(mnist_test, batch_size = 5, shuffle=False)"
   ]
  },
  {
   "cell_type": "code",
   "execution_count": 84,
   "id": "e6310842",
   "metadata": {},
   "outputs": [],
   "source": [
    "#for natural and adversarial LeNet Model \n",
    "class LeNet_normal(torch.nn.Module):\n",
    "    \"\"\"Network architecture from: https://github.com/ChawDoe/LeNet5-MNIST-PyTorch.\"\"\"\n",
    "    def __init__(self):\n",
    "        super().__init__()\n",
    "        self.conv_1 = torch.nn.Conv2d(1, 6, 5)\n",
    "        self.pool_1 = torch.nn.MaxPool2d(2, 2)\n",
    "        self.relu_1 = torch.nn.ReLU()\n",
    "        self.conv_2 = torch.nn.Conv2d(6, 16, 5)\n",
    "        self.pool_2 = torch.nn.MaxPool2d(2, 2)\n",
    "        self.relu_2 = torch.nn.ReLU()\n",
    "        self.fc_1 = torch.nn.Linear(256, 120)\n",
    "        self.relu_3 = torch.nn.ReLU()\n",
    "        self.fc_2 = torch.nn.Linear(120, 84)\n",
    "        self.relu_4 = torch.nn.ReLU()\n",
    "        self.fc_3 = torch.nn.Linear(84, 10)\n",
    "\n",
    "    def forward(self, x):\n",
    "        x = self.pool_1(self.relu_1(self.conv_1(x)))\n",
    "        x = self.pool_2(self.relu_2(self.conv_2(x)))\n",
    "        x = x.view(x.shape[0], -1)\n",
    "        x = self.relu_3(self.fc_1(x))\n",
    "        x = self.relu_4(self.fc_2(x))\n",
    "        x = self.fc_3(x)\n",
    "        return x"
   ]
  },
  {
   "cell_type": "code",
   "execution_count": 85,
   "id": "c3c35bc4",
   "metadata": {},
   "outputs": [],
   "source": [
    "#from rev2.cifar10.model_utils import resnet50, CIFAR10_RESNET50_CKPT_PATH\n",
    "\n",
    "class BasicBlock(nn.Module):\n",
    "    expansion = 1\n",
    "\n",
    "    def __init__(self, in_planes, planes, stride=1):\n",
    "        super(BasicBlock, self).__init__()\n",
    "        self.conv1 = nn.Conv2d(in_planes, planes, kernel_size=3, stride=stride, padding=1, bias=False)\n",
    "        self.bn1 = nn.BatchNorm2d(planes)\n",
    "        self.conv2 = nn.Conv2d(planes, planes, kernel_size=3, stride=1, padding=1, bias=False)\n",
    "        self.bn2 = nn.BatchNorm2d(planes)\n",
    "\n",
    "        self.shortcut = nn.Sequential()\n",
    "        if stride != 1 or in_planes != self.expansion*planes:\n",
    "            self.shortcut = nn.Sequential(\n",
    "                nn.Conv2d(in_planes, self.expansion*planes, kernel_size=1, stride=stride, bias=False),\n",
    "                nn.BatchNorm2d(self.expansion*planes)\n",
    "            )\n",
    "\n",
    "    def forward(self, x):\n",
    "        out = F.relu(self.bn1(self.conv1(x)))\n",
    "        out = self.bn2(self.conv2(out))\n",
    "        out += self.shortcut(x)\n",
    "        out = F.relu(out)\n",
    "        return out\n",
    "\n",
    "\n",
    "class Bottleneck(nn.Module):\n",
    "    expansion = 4\n",
    "\n",
    "    def __init__(self, in_planes, planes, stride=1):\n",
    "        super(Bottleneck, self).__init__()\n",
    "        self.conv1 = nn.Conv2d(in_planes, planes, kernel_size=1, bias=False)\n",
    "        self.bn1 = nn.BatchNorm2d(planes)\n",
    "        self.conv2 = nn.Conv2d(planes, planes, kernel_size=3, stride=stride, padding=1, bias=False)\n",
    "        self.bn2 = nn.BatchNorm2d(planes)\n",
    "        self.conv3 = nn.Conv2d(planes, self.expansion*planes, kernel_size=1, bias=False)\n",
    "        self.bn3 = nn.BatchNorm2d(self.expansion*planes)\n",
    "\n",
    "        self.shortcut = nn.Sequential()\n",
    "        if stride != 1 or in_planes != self.expansion*planes:\n",
    "            self.shortcut = nn.Sequential(\n",
    "                nn.Conv2d(in_planes, self.expansion*planes, kernel_size=1, stride=stride, bias=False),\n",
    "                nn.BatchNorm2d(self.expansion*planes)\n",
    "            )\n",
    "\n",
    "    def forward(self, x):\n",
    "        out = F.relu(self.bn1(self.conv1(x)))\n",
    "        out = F.relu(self.bn2(self.conv2(out)))\n",
    "        out = self.bn3(self.conv3(out))\n",
    "        out += self.shortcut(x)\n",
    "        out = F.relu(out)\n",
    "        return out\n",
    "\n",
    "\n",
    "class ResNet(nn.Module):\n",
    "    def __init__(self, block, num_blocks, num_classes=10):\n",
    "        super(ResNet, self).__init__()\n",
    "        self.in_planes = 64\n",
    "\n",
    "        self.conv1 = nn.Conv2d(3, 64, kernel_size=3, stride=1, padding=1, bias=False)\n",
    "        self.bn1 = nn.BatchNorm2d(64)\n",
    "        self.layer1 = self._make_layer(block, 64, num_blocks[0], stride=1)\n",
    "        self.layer2 = self._make_layer(block, 128, num_blocks[1], stride=2)\n",
    "        self.layer3 = self._make_layer(block, 256, num_blocks[2], stride=2)\n",
    "        self.layer4 = self._make_layer(block, 512, num_blocks[3], stride=2)\n",
    "        self.linear = nn.Linear(512*block.expansion, num_classes)\n",
    "\n",
    "    def _make_layer(self, block, planes, num_blocks, stride):\n",
    "        strides = [stride] + [1]*(num_blocks-1)\n",
    "        layers = []\n",
    "        for stride in strides:\n",
    "            layers.append(block(self.in_planes, planes, stride))\n",
    "            self.in_planes = planes * block.expansion\n",
    "        return nn.Sequential(*layers)\n",
    "\n",
    "    def forward(self, x, out_keys=None):\n",
    "        out = {}\n",
    "        x = self.conv1(x)\n",
    "        out[\"c1\"] = x\n",
    "        x = self.bn1(x)\n",
    "        out[\"bn1\"] = x\n",
    "        x = F.relu(x)\n",
    "        out[\"r1\"] = x\n",
    "\n",
    "        x = self.layer1(x)\n",
    "        out[\"l1\"] = x\n",
    "        x = self.layer2(x)\n",
    "        out[\"l2\"] = x\n",
    "        x = self.layer3(x)\n",
    "        out[\"l3\"] = x\n",
    "        x = self.layer4(x)\n",
    "        out[\"l4\"] = x\n",
    "\n",
    "        x = F.avg_pool2d(x, 4)\n",
    "        out[\"gvp\"] = x\n",
    "        x = x.view(x.size(0), -1)\n",
    "        x = self.linear(x)\n",
    "        out[\"fc\"] = x\n",
    "\n",
    "        if out_keys is None:\n",
    "            return x\n",
    "        res = {}\n",
    "        for key in out_keys:\n",
    "            res[key] = out[key]\n",
    "        return res\n",
    "\n",
    "\n",
    "def ResNet18():\n",
    "    return ResNet(BasicBlock, [2,2,2,2])\n",
    "\n",
    "\n",
    "def ResNet34():\n",
    "    return ResNet(BasicBlock, [3,4,6,3])\n",
    "\n",
    "\n",
    "def resnet50():\n",
    "    return ResNet(Bottleneck, [3,4,6,3])\n",
    "\n",
    "\n",
    "def ResNet101():\n",
    "    return ResNet(Bottleneck, [3,4,23,3])\n",
    "\n",
    "\n",
    "def ResNet152():\n",
    "    return ResNet(Bottleneck, [3,8,36,3])\n",
    "\n",
    "\n",
    "def test():\n",
    "    net = ResNet18()\n",
    "    y = net(torch.randn(1,3,32,32))\n",
    "    print(y.size())"
   ]
  },
  {
   "cell_type": "code",
   "execution_count": 86,
   "id": "0233f010",
   "metadata": {},
   "outputs": [],
   "source": [
    "def load_mnist_model(path):\n",
    "    model = LeNet_normal()\n",
    "    model.to(device)\n",
    "    model.load_state_dict(torch.load(path))\n",
    "    model.to('cuda')\n",
    "    model.train(False)\n",
    "    return model"
   ]
  },
  {
   "cell_type": "code",
   "execution_count": 87,
   "id": "04f85b45",
   "metadata": {},
   "outputs": [],
   "source": [
    "def load_cifar_model(path):\n",
    "    model = resnet50()\n",
    "    ckpt_dict = torch.load(path, lambda storage, loc: storage)\n",
    "    model.load_state_dict(ckpt_dict)\n",
    "    model.to('cuda')\n",
    "    model.train(False)\n",
    "    return model"
   ]
  },
  {
   "cell_type": "code",
   "execution_count": 88,
   "id": "276269a6",
   "metadata": {},
   "outputs": [],
   "source": [
    "device = \"cuda\""
   ]
  },
  {
   "cell_type": "code",
   "execution_count": 89,
   "id": "e8f3a7dc",
   "metadata": {},
   "outputs": [
    {
     "data": {
      "text/plain": [
       "LeNet_normal(\n",
       "  (conv_1): Conv2d(1, 6, kernel_size=(5, 5), stride=(1, 1))\n",
       "  (pool_1): MaxPool2d(kernel_size=2, stride=2, padding=0, dilation=1, ceil_mode=False)\n",
       "  (relu_1): ReLU()\n",
       "  (conv_2): Conv2d(6, 16, kernel_size=(5, 5), stride=(1, 1))\n",
       "  (pool_2): MaxPool2d(kernel_size=2, stride=2, padding=0, dilation=1, ceil_mode=False)\n",
       "  (relu_2): ReLU()\n",
       "  (fc_1): Linear(in_features=256, out_features=120, bias=True)\n",
       "  (relu_3): ReLU()\n",
       "  (fc_2): Linear(in_features=120, out_features=84, bias=True)\n",
       "  (relu_4): ReLU()\n",
       "  (fc_3): Linear(in_features=84, out_features=10, bias=True)\n",
       ")"
      ]
     },
     "execution_count": 89,
     "metadata": {},
     "output_type": "execute_result"
    }
   ],
   "source": [
    "path = \"mnist_model.pth\"\n",
    "normal_model = load_mnist_model(path)\n",
    "normal_model.to(device)\n",
    "normal_model.eval()"
   ]
  },
  {
   "cell_type": "code",
   "execution_count": 90,
   "id": "a40a806f",
   "metadata": {},
   "outputs": [],
   "source": [
    "image, label = next(iter(train_loader))\n",
    "image, label = image.to(device), label.to(device)"
   ]
  },
  {
   "cell_type": "code",
   "execution_count": 91,
   "id": "f8f59f7d",
   "metadata": {},
   "outputs": [],
   "source": [
    "images_pgd = fast_gradient_method(normal_model, image, 0.25, np.inf)\n",
    "_, y_pred_pgd = normal_model(images_pgd).max(1)\n",
    "images_pgd, y_pred_pgd = images_pgd.to(device), y_pred_pgd.to(device)"
   ]
  },
  {
   "cell_type": "code",
   "execution_count": 95,
   "id": "985c1137",
   "metadata": {},
   "outputs": [],
   "source": [
    "gc.collect()\n",
    "torch.cuda.empty_cache()"
   ]
  },
  {
   "cell_type": "code",
   "execution_count": 96,
   "id": "e6bb91b4",
   "metadata": {},
   "outputs": [],
   "source": [
    "# Generate normalised Saliency and Integrated Gradients attributions of the first batch of the test set.\n",
    "normal_intgrad = quantus.normalise_func.normalise_by_negative(IntegratedGradients(normal_model).attribute(inputs=image, target=label, baselines=torch.zeros_like(image)).sum(axis=1).cpu().numpy())"
   ]
  },
  {
   "cell_type": "code",
   "execution_count": 97,
   "id": "3077a81e",
   "metadata": {},
   "outputs": [
    {
     "name": "stderr",
     "output_type": "stream",
     "text": [
      "/data/virtual environments/adv detection by robustness/adv_detection/lib/python3.8/site-packages/captum/_utils/gradient.py:57: UserWarning: Input Tensor 0 did not already require gradients, required_grads has been set automatically.\n",
      "  warnings.warn(\n"
     ]
    }
   ],
   "source": [
    "# Generate normalised Saliency and Integrated Gradients attributions of the first batch of the test set.\n",
    "saliency_normal_intgrad = (Saliency(normal_model).attribute(inputs=image, target=label).sum(axis=1).cpu().numpy())"
   ]
  },
  {
   "cell_type": "code",
   "execution_count": 98,
   "id": "c7dc1c92",
   "metadata": {},
   "outputs": [],
   "source": [
    "adv_intgrad = quantus.normalise_func.normalise_by_negative(IntegratedGradients(normal_model).attribute(inputs=images_pgd.detach(), target=y_pred_pgd, baselines=torch.zeros_like(images_pgd)).sum(axis=1).cpu().numpy())"
   ]
  },
  {
   "cell_type": "code",
   "execution_count": 99,
   "id": "6a640723",
   "metadata": {},
   "outputs": [
    {
     "data": {
      "text/plain": [
       "ResNet(\n",
       "  (conv1): Conv2d(3, 64, kernel_size=(3, 3), stride=(1, 1), padding=(1, 1), bias=False)\n",
       "  (bn1): BatchNorm2d(64, eps=1e-05, momentum=0.1, affine=True, track_running_stats=True)\n",
       "  (layer1): Sequential(\n",
       "    (0): Bottleneck(\n",
       "      (conv1): Conv2d(64, 64, kernel_size=(1, 1), stride=(1, 1), bias=False)\n",
       "      (bn1): BatchNorm2d(64, eps=1e-05, momentum=0.1, affine=True, track_running_stats=True)\n",
       "      (conv2): Conv2d(64, 64, kernel_size=(3, 3), stride=(1, 1), padding=(1, 1), bias=False)\n",
       "      (bn2): BatchNorm2d(64, eps=1e-05, momentum=0.1, affine=True, track_running_stats=True)\n",
       "      (conv3): Conv2d(64, 256, kernel_size=(1, 1), stride=(1, 1), bias=False)\n",
       "      (bn3): BatchNorm2d(256, eps=1e-05, momentum=0.1, affine=True, track_running_stats=True)\n",
       "      (shortcut): Sequential(\n",
       "        (0): Conv2d(64, 256, kernel_size=(1, 1), stride=(1, 1), bias=False)\n",
       "        (1): BatchNorm2d(256, eps=1e-05, momentum=0.1, affine=True, track_running_stats=True)\n",
       "      )\n",
       "    )\n",
       "    (1): Bottleneck(\n",
       "      (conv1): Conv2d(256, 64, kernel_size=(1, 1), stride=(1, 1), bias=False)\n",
       "      (bn1): BatchNorm2d(64, eps=1e-05, momentum=0.1, affine=True, track_running_stats=True)\n",
       "      (conv2): Conv2d(64, 64, kernel_size=(3, 3), stride=(1, 1), padding=(1, 1), bias=False)\n",
       "      (bn2): BatchNorm2d(64, eps=1e-05, momentum=0.1, affine=True, track_running_stats=True)\n",
       "      (conv3): Conv2d(64, 256, kernel_size=(1, 1), stride=(1, 1), bias=False)\n",
       "      (bn3): BatchNorm2d(256, eps=1e-05, momentum=0.1, affine=True, track_running_stats=True)\n",
       "      (shortcut): Sequential()\n",
       "    )\n",
       "    (2): Bottleneck(\n",
       "      (conv1): Conv2d(256, 64, kernel_size=(1, 1), stride=(1, 1), bias=False)\n",
       "      (bn1): BatchNorm2d(64, eps=1e-05, momentum=0.1, affine=True, track_running_stats=True)\n",
       "      (conv2): Conv2d(64, 64, kernel_size=(3, 3), stride=(1, 1), padding=(1, 1), bias=False)\n",
       "      (bn2): BatchNorm2d(64, eps=1e-05, momentum=0.1, affine=True, track_running_stats=True)\n",
       "      (conv3): Conv2d(64, 256, kernel_size=(1, 1), stride=(1, 1), bias=False)\n",
       "      (bn3): BatchNorm2d(256, eps=1e-05, momentum=0.1, affine=True, track_running_stats=True)\n",
       "      (shortcut): Sequential()\n",
       "    )\n",
       "  )\n",
       "  (layer2): Sequential(\n",
       "    (0): Bottleneck(\n",
       "      (conv1): Conv2d(256, 128, kernel_size=(1, 1), stride=(1, 1), bias=False)\n",
       "      (bn1): BatchNorm2d(128, eps=1e-05, momentum=0.1, affine=True, track_running_stats=True)\n",
       "      (conv2): Conv2d(128, 128, kernel_size=(3, 3), stride=(2, 2), padding=(1, 1), bias=False)\n",
       "      (bn2): BatchNorm2d(128, eps=1e-05, momentum=0.1, affine=True, track_running_stats=True)\n",
       "      (conv3): Conv2d(128, 512, kernel_size=(1, 1), stride=(1, 1), bias=False)\n",
       "      (bn3): BatchNorm2d(512, eps=1e-05, momentum=0.1, affine=True, track_running_stats=True)\n",
       "      (shortcut): Sequential(\n",
       "        (0): Conv2d(256, 512, kernel_size=(1, 1), stride=(2, 2), bias=False)\n",
       "        (1): BatchNorm2d(512, eps=1e-05, momentum=0.1, affine=True, track_running_stats=True)\n",
       "      )\n",
       "    )\n",
       "    (1): Bottleneck(\n",
       "      (conv1): Conv2d(512, 128, kernel_size=(1, 1), stride=(1, 1), bias=False)\n",
       "      (bn1): BatchNorm2d(128, eps=1e-05, momentum=0.1, affine=True, track_running_stats=True)\n",
       "      (conv2): Conv2d(128, 128, kernel_size=(3, 3), stride=(1, 1), padding=(1, 1), bias=False)\n",
       "      (bn2): BatchNorm2d(128, eps=1e-05, momentum=0.1, affine=True, track_running_stats=True)\n",
       "      (conv3): Conv2d(128, 512, kernel_size=(1, 1), stride=(1, 1), bias=False)\n",
       "      (bn3): BatchNorm2d(512, eps=1e-05, momentum=0.1, affine=True, track_running_stats=True)\n",
       "      (shortcut): Sequential()\n",
       "    )\n",
       "    (2): Bottleneck(\n",
       "      (conv1): Conv2d(512, 128, kernel_size=(1, 1), stride=(1, 1), bias=False)\n",
       "      (bn1): BatchNorm2d(128, eps=1e-05, momentum=0.1, affine=True, track_running_stats=True)\n",
       "      (conv2): Conv2d(128, 128, kernel_size=(3, 3), stride=(1, 1), padding=(1, 1), bias=False)\n",
       "      (bn2): BatchNorm2d(128, eps=1e-05, momentum=0.1, affine=True, track_running_stats=True)\n",
       "      (conv3): Conv2d(128, 512, kernel_size=(1, 1), stride=(1, 1), bias=False)\n",
       "      (bn3): BatchNorm2d(512, eps=1e-05, momentum=0.1, affine=True, track_running_stats=True)\n",
       "      (shortcut): Sequential()\n",
       "    )\n",
       "    (3): Bottleneck(\n",
       "      (conv1): Conv2d(512, 128, kernel_size=(1, 1), stride=(1, 1), bias=False)\n",
       "      (bn1): BatchNorm2d(128, eps=1e-05, momentum=0.1, affine=True, track_running_stats=True)\n",
       "      (conv2): Conv2d(128, 128, kernel_size=(3, 3), stride=(1, 1), padding=(1, 1), bias=False)\n",
       "      (bn2): BatchNorm2d(128, eps=1e-05, momentum=0.1, affine=True, track_running_stats=True)\n",
       "      (conv3): Conv2d(128, 512, kernel_size=(1, 1), stride=(1, 1), bias=False)\n",
       "      (bn3): BatchNorm2d(512, eps=1e-05, momentum=0.1, affine=True, track_running_stats=True)\n",
       "      (shortcut): Sequential()\n",
       "    )\n",
       "  )\n",
       "  (layer3): Sequential(\n",
       "    (0): Bottleneck(\n",
       "      (conv1): Conv2d(512, 256, kernel_size=(1, 1), stride=(1, 1), bias=False)\n",
       "      (bn1): BatchNorm2d(256, eps=1e-05, momentum=0.1, affine=True, track_running_stats=True)\n",
       "      (conv2): Conv2d(256, 256, kernel_size=(3, 3), stride=(2, 2), padding=(1, 1), bias=False)\n",
       "      (bn2): BatchNorm2d(256, eps=1e-05, momentum=0.1, affine=True, track_running_stats=True)\n",
       "      (conv3): Conv2d(256, 1024, kernel_size=(1, 1), stride=(1, 1), bias=False)\n",
       "      (bn3): BatchNorm2d(1024, eps=1e-05, momentum=0.1, affine=True, track_running_stats=True)\n",
       "      (shortcut): Sequential(\n",
       "        (0): Conv2d(512, 1024, kernel_size=(1, 1), stride=(2, 2), bias=False)\n",
       "        (1): BatchNorm2d(1024, eps=1e-05, momentum=0.1, affine=True, track_running_stats=True)\n",
       "      )\n",
       "    )\n",
       "    (1): Bottleneck(\n",
       "      (conv1): Conv2d(1024, 256, kernel_size=(1, 1), stride=(1, 1), bias=False)\n",
       "      (bn1): BatchNorm2d(256, eps=1e-05, momentum=0.1, affine=True, track_running_stats=True)\n",
       "      (conv2): Conv2d(256, 256, kernel_size=(3, 3), stride=(1, 1), padding=(1, 1), bias=False)\n",
       "      (bn2): BatchNorm2d(256, eps=1e-05, momentum=0.1, affine=True, track_running_stats=True)\n",
       "      (conv3): Conv2d(256, 1024, kernel_size=(1, 1), stride=(1, 1), bias=False)\n",
       "      (bn3): BatchNorm2d(1024, eps=1e-05, momentum=0.1, affine=True, track_running_stats=True)\n",
       "      (shortcut): Sequential()\n",
       "    )\n",
       "    (2): Bottleneck(\n",
       "      (conv1): Conv2d(1024, 256, kernel_size=(1, 1), stride=(1, 1), bias=False)\n",
       "      (bn1): BatchNorm2d(256, eps=1e-05, momentum=0.1, affine=True, track_running_stats=True)\n",
       "      (conv2): Conv2d(256, 256, kernel_size=(3, 3), stride=(1, 1), padding=(1, 1), bias=False)\n",
       "      (bn2): BatchNorm2d(256, eps=1e-05, momentum=0.1, affine=True, track_running_stats=True)\n",
       "      (conv3): Conv2d(256, 1024, kernel_size=(1, 1), stride=(1, 1), bias=False)\n",
       "      (bn3): BatchNorm2d(1024, eps=1e-05, momentum=0.1, affine=True, track_running_stats=True)\n",
       "      (shortcut): Sequential()\n",
       "    )\n",
       "    (3): Bottleneck(\n",
       "      (conv1): Conv2d(1024, 256, kernel_size=(1, 1), stride=(1, 1), bias=False)\n",
       "      (bn1): BatchNorm2d(256, eps=1e-05, momentum=0.1, affine=True, track_running_stats=True)\n",
       "      (conv2): Conv2d(256, 256, kernel_size=(3, 3), stride=(1, 1), padding=(1, 1), bias=False)\n",
       "      (bn2): BatchNorm2d(256, eps=1e-05, momentum=0.1, affine=True, track_running_stats=True)\n",
       "      (conv3): Conv2d(256, 1024, kernel_size=(1, 1), stride=(1, 1), bias=False)\n",
       "      (bn3): BatchNorm2d(1024, eps=1e-05, momentum=0.1, affine=True, track_running_stats=True)\n",
       "      (shortcut): Sequential()\n",
       "    )\n",
       "    (4): Bottleneck(\n",
       "      (conv1): Conv2d(1024, 256, kernel_size=(1, 1), stride=(1, 1), bias=False)\n",
       "      (bn1): BatchNorm2d(256, eps=1e-05, momentum=0.1, affine=True, track_running_stats=True)\n",
       "      (conv2): Conv2d(256, 256, kernel_size=(3, 3), stride=(1, 1), padding=(1, 1), bias=False)\n",
       "      (bn2): BatchNorm2d(256, eps=1e-05, momentum=0.1, affine=True, track_running_stats=True)\n",
       "      (conv3): Conv2d(256, 1024, kernel_size=(1, 1), stride=(1, 1), bias=False)\n",
       "      (bn3): BatchNorm2d(1024, eps=1e-05, momentum=0.1, affine=True, track_running_stats=True)\n",
       "      (shortcut): Sequential()\n",
       "    )\n",
       "    (5): Bottleneck(\n",
       "      (conv1): Conv2d(1024, 256, kernel_size=(1, 1), stride=(1, 1), bias=False)\n",
       "      (bn1): BatchNorm2d(256, eps=1e-05, momentum=0.1, affine=True, track_running_stats=True)\n",
       "      (conv2): Conv2d(256, 256, kernel_size=(3, 3), stride=(1, 1), padding=(1, 1), bias=False)\n",
       "      (bn2): BatchNorm2d(256, eps=1e-05, momentum=0.1, affine=True, track_running_stats=True)\n",
       "      (conv3): Conv2d(256, 1024, kernel_size=(1, 1), stride=(1, 1), bias=False)\n",
       "      (bn3): BatchNorm2d(1024, eps=1e-05, momentum=0.1, affine=True, track_running_stats=True)\n",
       "      (shortcut): Sequential()\n",
       "    )\n",
       "  )\n",
       "  (layer4): Sequential(\n",
       "    (0): Bottleneck(\n",
       "      (conv1): Conv2d(1024, 512, kernel_size=(1, 1), stride=(1, 1), bias=False)\n",
       "      (bn1): BatchNorm2d(512, eps=1e-05, momentum=0.1, affine=True, track_running_stats=True)\n",
       "      (conv2): Conv2d(512, 512, kernel_size=(3, 3), stride=(2, 2), padding=(1, 1), bias=False)\n",
       "      (bn2): BatchNorm2d(512, eps=1e-05, momentum=0.1, affine=True, track_running_stats=True)\n",
       "      (conv3): Conv2d(512, 2048, kernel_size=(1, 1), stride=(1, 1), bias=False)\n",
       "      (bn3): BatchNorm2d(2048, eps=1e-05, momentum=0.1, affine=True, track_running_stats=True)\n",
       "      (shortcut): Sequential(\n",
       "        (0): Conv2d(1024, 2048, kernel_size=(1, 1), stride=(2, 2), bias=False)\n",
       "        (1): BatchNorm2d(2048, eps=1e-05, momentum=0.1, affine=True, track_running_stats=True)\n",
       "      )\n",
       "    )\n",
       "    (1): Bottleneck(\n",
       "      (conv1): Conv2d(2048, 512, kernel_size=(1, 1), stride=(1, 1), bias=False)\n",
       "      (bn1): BatchNorm2d(512, eps=1e-05, momentum=0.1, affine=True, track_running_stats=True)\n",
       "      (conv2): Conv2d(512, 512, kernel_size=(3, 3), stride=(1, 1), padding=(1, 1), bias=False)\n",
       "      (bn2): BatchNorm2d(512, eps=1e-05, momentum=0.1, affine=True, track_running_stats=True)\n",
       "      (conv3): Conv2d(512, 2048, kernel_size=(1, 1), stride=(1, 1), bias=False)\n",
       "      (bn3): BatchNorm2d(2048, eps=1e-05, momentum=0.1, affine=True, track_running_stats=True)\n",
       "      (shortcut): Sequential()\n",
       "    )\n",
       "    (2): Bottleneck(\n",
       "      (conv1): Conv2d(2048, 512, kernel_size=(1, 1), stride=(1, 1), bias=False)\n",
       "      (bn1): BatchNorm2d(512, eps=1e-05, momentum=0.1, affine=True, track_running_stats=True)\n",
       "      (conv2): Conv2d(512, 512, kernel_size=(3, 3), stride=(1, 1), padding=(1, 1), bias=False)\n",
       "      (bn2): BatchNorm2d(512, eps=1e-05, momentum=0.1, affine=True, track_running_stats=True)\n",
       "      (conv3): Conv2d(512, 2048, kernel_size=(1, 1), stride=(1, 1), bias=False)\n",
       "      (bn3): BatchNorm2d(2048, eps=1e-05, momentum=0.1, affine=True, track_running_stats=True)\n",
       "      (shortcut): Sequential()\n",
       "    )\n",
       "  )\n",
       "  (linear): Linear(in_features=2048, out_features=10, bias=True)\n",
       ")"
      ]
     },
     "execution_count": 99,
     "metadata": {},
     "output_type": "execute_result"
    }
   ],
   "source": [
    "#load cifar model and set to eval\n",
    "path = \"cifar.ckpt\"\n",
    "model = load_cifar_model(path)\n",
    "model.to(device)\n",
    "model.eval()"
   ]
  },
  {
   "cell_type": "code",
   "execution_count": 100,
   "id": "2b6617cb",
   "metadata": {},
   "outputs": [
    {
     "name": "stdout",
     "output_type": "stream",
     "text": [
      "Files already downloaded and verified\n"
     ]
    }
   ],
   "source": [
    "testset = torchvision.datasets.CIFAR10(root='./data', train=False,\n",
    "                                           download=True, transform=torchvision.transforms.ToTensor())\n",
    "test_loader = DataLoader(testset, shuffle=True, batch_size=5)"
   ]
  },
  {
   "cell_type": "code",
   "execution_count": 101,
   "id": "fec9a126",
   "metadata": {},
   "outputs": [],
   "source": [
    "image2, label2 = next(iter(test_loader))\n",
    "image2, label2 = image2.to(device), label2.to(device)"
   ]
  },
  {
   "cell_type": "code",
   "execution_count": 79,
   "id": "8f1979e8",
   "metadata": {},
   "outputs": [],
   "source": [
    "from cleverhans.torch.attacks.projected_gradient_descent import (\n",
    "    projected_gradient_descent,\n",
    ")\n",
    "\n",
    "def make_attack(x_batch, y_batch, eps, normal_model): \n",
    "    \n",
    "    alpha = eps/10\n",
    "    steps = int(alpha*eps)\n",
    "    images_pgd = projected_gradient_descent(normal_model, x_batch, eps, alpha, steps, np.inf)\n",
    "    _, y_pred_pgd = normal_model(images_pgd).max(1)\n",
    "    index = (y_pred_pgd != y_batch)\n",
    "    pgd_images = images_pgd[index]\n",
    "    y_pred_pgd = y_pred_pgd[index]\n",
    "    return pgd_images, y_pred_pgd"
   ]
  },
  {
   "cell_type": "code",
   "execution_count": 80,
   "id": "fddeeb8a",
   "metadata": {},
   "outputs": [],
   "source": [
    "images_pgd2, y_pred_pgd = make_attack(image2, label2, 8/255, model)\n"
   ]
  },
  {
   "cell_type": "code",
   "execution_count": 102,
   "id": "ec9a4253",
   "metadata": {},
   "outputs": [],
   "source": [
    "images_pgd2 = fast_gradient_method(model, image2, 0.05, np.inf)\n",
    "_, y_pred_pgd2 = model(images_pgd2).max(1)\n",
    "images_pgd2, y_pred_pgd2 = images_pgd2.to(device), y_pred_pgd2.to(device)"
   ]
  },
  {
   "cell_type": "code",
   "execution_count": 104,
   "id": "91c916ae",
   "metadata": {},
   "outputs": [],
   "source": [
    "gc.collect()\n",
    "torch.cuda.empty_cache()"
   ]
  },
  {
   "cell_type": "code",
   "execution_count": 105,
   "id": "f2c79ce0",
   "metadata": {},
   "outputs": [],
   "source": [
    "# Generate normalised Saliency and Integrated Gradients attributions of the first batch of the test set.\n",
    "normal_intgrad2 = quantus.normalise_func.normalise_by_negative(IntegratedGradients(model).attribute(inputs=image2, target=label2, baselines=torch.zeros_like(image2)).sum(axis=1).cpu().numpy())"
   ]
  },
  {
   "cell_type": "code",
   "execution_count": 74,
   "id": "e13fedbe",
   "metadata": {},
   "outputs": [],
   "source": [
    "adv_intgrad2 = quantus.normalise_func.normalise_by_negative(IntegratedGradients(model).attribute(inputs=images_pgd2.detach(), target=y_pred_pgd2, baselines=torch.zeros_like(images_pgd2)).sum(axis=1).cpu().numpy())"
   ]
  },
  {
   "cell_type": "code",
   "execution_count": 75,
   "id": "f50c92c3",
   "metadata": {},
   "outputs": [],
   "source": [
    "#relative measure of dispersion\n",
    "def compute_coef_var(attr):\n",
    "    scores = []\n",
    "    for i in range(len(attr)):\n",
    "        a = attr[i].flatten()\n",
    "        m = np.mean(a)\n",
    "        st = np.std(attr[i])\n",
    "        sc = m/st\n",
    "        scores.append(sc)\n",
    "    return scores"
   ]
  },
  {
   "cell_type": "code",
   "execution_count": 76,
   "id": "158d0cc3",
   "metadata": {},
   "outputs": [
    {
     "name": "stdout",
     "output_type": "stream",
     "text": [
      "[0.03838830854504881, 0.0344326570611392, 0.05788260367676393, 0.03873523871008567, 0.03960711598927684]\n"
     ]
    }
   ],
   "source": [
    "print(compute_coef_var(normal_intgrad2))"
   ]
  },
  {
   "cell_type": "code",
   "execution_count": 77,
   "id": "ae6210db",
   "metadata": {},
   "outputs": [
    {
     "name": "stdout",
     "output_type": "stream",
     "text": [
      "[0.06636951398374141, 0.06509230690735228, 0.07153483985459579, 0.07212156462803765, 0.06231492585272336]\n"
     ]
    }
   ],
   "source": [
    "print(compute_coef_var(adv_intgrad2))"
   ]
  },
  {
   "cell_type": "code",
   "execution_count": 119,
   "id": "ee33dd33",
   "metadata": {},
   "outputs": [],
   "source": [
    "image, label = next(iter(train_loader))\n",
    "image, label = image.to(device), label.to(device)\n",
    "image2, label2 = next(iter(test_loader))\n",
    "image2, label2 = image2.to(device), label2.to(device)"
   ]
  },
  {
   "cell_type": "code",
   "execution_count": 120,
   "id": "9a6c46fa",
   "metadata": {},
   "outputs": [],
   "source": [
    "images_pgd = fast_gradient_method(normal_model, image, 0.25, np.inf)\n",
    "_, y_pred_pgd = normal_model(images_pgd).max(1)\n",
    "images_pgd, y_pred_pgd = images_pgd.to(device), y_pred_pgd.to(device)\n",
    "images_pgd2 = fast_gradient_method(model, image2, 0.05, np.inf)\n",
    "_, y_pred_pgd2 = model(images_pgd2).max(1)\n",
    "images_pgd2, y_pred_pgd2 = images_pgd2.to(device), y_pred_pgd2.to(device)"
   ]
  },
  {
   "cell_type": "code",
   "execution_count": 123,
   "id": "c4911e00",
   "metadata": {},
   "outputs": [],
   "source": [
    "# Generate normalised Saliency and Integrated Gradients attributions of the first batch of the test set.\n",
    "normal_intgrad = quantus.normalise_func.normalise_by_negative(IntegratedGradients(normal_model).attribute(inputs=image, target=label, baselines=torch.zeros_like(image)).sum(axis=1).cpu().numpy())"
   ]
  },
  {
   "cell_type": "code",
   "execution_count": 124,
   "id": "a3e4811e",
   "metadata": {},
   "outputs": [],
   "source": [
    "adv_intgrad = quantus.normalise_func.normalise_by_negative(IntegratedGradients(normal_model).attribute(inputs=images_pgd.detach(), target=y_pred_pgd, baselines=torch.zeros_like(images_pgd)).sum(axis=1).cpu().numpy())"
   ]
  },
  {
   "cell_type": "code",
   "execution_count": 125,
   "id": "0fcadfed",
   "metadata": {},
   "outputs": [],
   "source": [
    "gc.collect()\n",
    "torch.cuda.empty_cache()"
   ]
  },
  {
   "cell_type": "code",
   "execution_count": 126,
   "id": "f8103d61",
   "metadata": {},
   "outputs": [],
   "source": [
    "# Generate normalised Saliency and Integrated Gradients attributions of the first batch of the test set.\n",
    "normal_intgrad2 = quantus.normalise_func.normalise_by_negative(IntegratedGradients(model).attribute(inputs=image2, target=label2, baselines=torch.zeros_like(image2)).sum(axis=1).cpu().numpy())\n",
    "adv_intgrad2 = quantus.normalise_func.normalise_by_negative(IntegratedGradients(model).attribute(inputs=images_pgd2.detach(), target=y_pred_pgd2, baselines=torch.zeros_like(images_pgd2)).sum(axis=1).cpu().numpy())\n"
   ]
  },
  {
   "cell_type": "code",
   "execution_count": 135,
   "id": "8f6305b7",
   "metadata": {},
   "outputs": [],
   "source": [
    "image2, label2 = next(iter(test_loader))\n",
    "image2, label2 = image2.to(device), label2.to(device)\n",
    "images_pgd2 = fast_gradient_method(model, image2, 0.05, np.inf)\n",
    "_, y_pred_pgd2 = model(images_pgd2).max(1)\n",
    "images_pgd2, y_pred_pgd2 = images_pgd2.to(device), y_pred_pgd2.to(device)\n",
    "# Generate normalised Saliency and Integrated Gradients attributions of the first batch of the test set.\n",
    "normal_intgrad2 = quantus.normalise_func.normalise_by_negative(IntegratedGradients(model).attribute(inputs=image2, target=label2, baselines=torch.zeros_like(image2)).sum(axis=1).cpu().numpy())\n",
    "adv_intgrad2 = quantus.normalise_func.normalise_by_negative(IntegratedGradients(model).attribute(inputs=images_pgd2.detach(), target=y_pred_pgd2, baselines=torch.zeros_like(images_pgd2)).sum(axis=1).cpu().numpy())"
   ]
  },
  {
   "cell_type": "code",
   "execution_count": 141,
   "id": "80304191",
   "metadata": {},
   "outputs": [],
   "source": [
    "image2, label2 = next(iter(test_loader))\n",
    "image2, label2 = image2.to(device), label2.to(device)\n",
    "images_pgd2 = fast_gradient_method(model, image2, 0.05, np.inf)\n",
    "_, y_pred_pgd2 = model(images_pgd2).max(1)\n",
    "images_pgd2, y_pred_pgd2 = images_pgd2.to(device), y_pred_pgd2.to(device)\n",
    "# Generate normalised Saliency and Integrated Gradients attributions of the first batch of the test set.\n",
    "normal_intgrad2 = quantus.normalise_func.normalise_by_negative(IntegratedGradients(model).attribute(inputs=image2, target=label2, baselines=torch.zeros_like(image2)).sum(axis=1).cpu().numpy())\n",
    "adv_intgrad2 = quantus.normalise_func.normalise_by_negative(IntegratedGradients(model).attribute(inputs=images_pgd2.detach(), target=y_pred_pgd2, baselines=torch.zeros_like(images_pgd2)).sum(axis=1).cpu().numpy())"
   ]
  },
  {
   "cell_type": "code",
   "execution_count": 143,
   "id": "16345b9a",
   "metadata": {},
   "outputs": [
    {
     "name": "stderr",
     "output_type": "stream",
     "text": [
      "Clipping input data to the valid range for imshow with RGB data ([0..1] for floats or [0..255] for integers).\n"
     ]
    },
    {
     "data": {
      "image/png": "[encoded data removed]",
      "text/plain": [
       "<Figure size 500x600 with 8 Axes>"
      ]
     },
     "metadata": {},
     "output_type": "display_data"
    }
   ],
   "source": [
    "nr_images = 2 \n",
    "i=4\n",
    "j=1\n",
    "fig, axes = plt.subplots(nrows=nr_images, ncols=4, figsize=(nr_images*2.5, int(nr_images*3)))\n",
    "axes[0, 0].imshow((image[i].to('cpu').permute(1, 2, 0)), cmap=\"gray\")\n",
    "axes[0, 0].title.set_text(f\"Label: {label[i].item()}\")\n",
    "axes[0, 0].axis(\"off\")\n",
    "\n",
    "axes[0, 1].imshow(normal_intgrad[i], cmap=\"seismic\")\n",
    "axes[0, 1].title.set_text(f\"Attribution\")\n",
    "axes[0, 1].axis(\"off\")\n",
    "plt.tight_layout()\n",
    "\n",
    "axes[0, 2].imshow((images_pgd[i].detach().to('cpu').permute(1, 2, 0)), cmap=\"gray\")\n",
    "axes[0, 2].title.set_text(f\"Label: {y_pred_pgd[i].item()}\")\n",
    "axes[0, 2].axis(\"off\")\n",
    "plt.tight_layout()\n",
    "\n",
    "axes[0, 3].imshow(adv_intgrad[i], cmap=\"seismic\")\n",
    "axes[0, 3].title.set_text(f\"Attribution\")\n",
    "axes[0, 3].axis(\"off\")\n",
    "plt.tight_layout()\n",
    "axes[1, 0].imshow((np.moveaxis((image2[j].cpu().numpy()), 0, -1)*255).astype(np.uint8), vmin=0.0, vmax=1.0, cmap=\"gray\")\n",
    "#axes[1, 0].imshow((image2[1].to('cpu').permute(1, 2, 0)), cmap=\"gray\")\n",
    "axes[1, 0].title.set_text(f\" Label: Bird\")\n",
    "axes[1, 0].axis(\"off\")\n",
    "\n",
    "axes[1, 1].imshow(normal_intgrad2[j], cmap=\"seismic\")\n",
    "axes[1, 1].title.set_text(f\"Attribution\")\n",
    "axes[1, 1].axis(\"off\")\n",
    "\n",
    "axes[1, 2].imshow(np.transpose((images_pgd2[j].cpu().detach().numpy()),(1,2,0)), cmap=\"gray\")\n",
    "#axes[1, 1].imshow((images_pgd2[1].detach().to('cpu').permute(1, 2, 0)), cmap=\"gray\")\n",
    "axes[1, 2].title.set_text(f\" Label: Frog\")\n",
    "axes[1, 2].axis(\"off\")\n",
    "\n",
    "axes[1, 3].imshow(adv_intgrad2[j], cmap=\"seismic\")\n",
    "axes[1, 3].title.set_text(f\"Attribution\")\n",
    "axes[1, 3].axis(\"off\")\n",
    "plt.tight_layout()\n",
    "plt.show()\n",
    "#fig.savefig(\"advsamples.pdf\", format=\"pdf\", bbox_inches=\"tight\")"
   ]
  },
  {
   "cell_type": "code",
   "execution_count": 182,
   "id": "42092a08",
   "metadata": {},
   "outputs": [
    {
     "name": "stderr",
     "output_type": "stream",
     "text": [
      "/tmp/ipykernel_51375/1605858764.py:8: UserWarning: The figure layout has changed to tight\n",
      "  plt.tight_layout()\n",
      "Clipping input data to the valid range for imshow with RGB data ([0..1] for floats or [0..255] for integers).\n"
     ]
    },
    {
     "data": {
      "image/png": "[encoded data removed]",
      "text/plain": [
       "<Figure size 500x600 with 8 Axes>"
      ]
     },
     "metadata": {},
     "output_type": "display_data"
    }
   ],
   "source": [
    "nr_images = 2 \n",
    "i=4\n",
    "j=2\n",
    "fig, axes = plt.subplots(nrows=nr_images, ncols=4, figsize=(nr_images*2.5, int(nr_images*3)), constrained_layout=True)\n",
    "axes[0, 0].imshow((image[i].to('cpu').permute(1, 2, 0)), cmap=\"gray\")\n",
    "axes[0, 0].title.set_text(f\"Label: {label[i].item()}\")\n",
    "axes[0, 0].axis(\"off\")\n",
    "plt.tight_layout()\n",
    "\n",
    "axes[0, 1].imshow(normal_intgrad[i], cmap=\"seismic\")\n",
    "axes[0, 1].title.set_text(f\"Attribution\")\n",
    "axes[0, 1].axis(\"off\")\n",
    "plt.tight_layout()\n",
    "\n",
    "axes[0, 2].imshow((images_pgd[i].detach().to('cpu').permute(1, 2, 0)), cmap=\"gray\")\n",
    "axes[0, 2].title.set_text(f\"Label: {y_pred_pgd[i].item()}\")\n",
    "axes[0, 2].axis(\"off\")\n",
    "plt.tight_layout()\n",
    "\n",
    "axes[0, 3].imshow(adv_intgrad[i], cmap=\"seismic\")\n",
    "axes[0, 3].title.set_text(f\"Attribution\")\n",
    "axes[0, 3].axis(\"off\")\n",
    "plt.tight_layout()\n",
    "axes[1, 0].imshow((np.moveaxis((image2[j].cpu().numpy()), 0, -1)*255).astype(np.uint8), vmin=0.0, vmax=1.0, cmap=\"gray\")\n",
    "#axes[1, 0].imshow((image2[1].to('cpu').permute(1, 2, 0)), cmap=\"gray\")\n",
    "axes[1, 0].title.set_text(f\" Label: Auto\")\n",
    "axes[1, 0].axis(\"off\")\n",
    "plt.tight_layout()\n",
    "\n",
    "axes[1, 1].imshow(normal_intgrad2[j], cmap=\"seismic\")\n",
    "axes[1, 1].title.set_text(f\"Attribution\")\n",
    "axes[1, 1].axis(\"off\")\n",
    "plt.tight_layout()\n",
    "\n",
    "axes[1, 2].imshow(np.transpose((images_pgd2[j].cpu().detach().numpy()),(1,2,0)), cmap=\"gray\")\n",
    "#axes[1, 1].imshow((images_pgd2[1].detach().to('cpu').permute(1, 2, 0)), cmap=\"gray\")\n",
    "axes[1, 2].title.set_text(f\" Label: Frog\")\n",
    "axes[1, 2].axis(\"off\")\n",
    "\n",
    "axes[1, 3].imshow(adv_intgrad2[j], cmap=\"seismic\")\n",
    "axes[1, 3].title.set_text(f\"Attribution\")\n",
    "axes[1, 3].axis(\"off\")\n",
    "plt.tight_layout()\n",
    "plt.subplots_adjust(\n",
    "                    bottom=0.1,\n",
    "                    top=0.5,\n",
    "                    wspace=0.3,\n",
    "                    hspace=0.5)\n",
    "plt.show()\n",
    "fig.savefig(\"advsamples.pdf\", format=\"pdf\", bbox_inches=\"tight\")"
   ]
  },
  {
   "cell_type": "code",
   "execution_count": null,
   "id": "b4161efb",
   "metadata": {},
   "outputs": [],
   "source": [
    "fig, axes = plt.subplots(nrows=1, ncols=4, figsize=(nr_images*2.5, int(nr_images*3)))\n",
    "\n",
    "axes[0].imshow((image[i].to('cpu').permute(1, 2, 0)), cmap=\"gray\")\n",
    "axes[0].title.set_text(f\"Label: {label[i].item()}\")\n",
    "axes[0].axis(\"off\")\n",
    "axes[1].imshow(normal_intgrad[i], cmap=\"seismic\")\n",
    "axes[1].title.set_text(f\"Attribution\")\n",
    "axes[1].axis(\"off\")\n",
    "plt.tight_layout()\n",
    "\n",
    "axes[2].imshow((images_pgd[i].detach().to('cpu').permute(1, 2, 0)), cmap=\"gray\")\n",
    "axes[2].title.set_text(f\"Label: {y_pred_pgd[i].item()}\")\n",
    "axes[2].axis(\"off\")\n",
    "plt.tight_layout()\n",
    "\n",
    "axes[3].imshow(adv_intgrad[i], cmap=\"seismic\")\n",
    "axes[3].title.set_text(f\"Attribution\")\n",
    "axes[3].axis(\"off\")\n",
    "plt.tight_layout()\n",
    "plt.show()\n",
    "fig.savefig(\"advsamplesIntroMNIST.pdf\", format=\"pdf\", bbox_inches=\"tight\")"
   ]
  },
  {
   "cell_type": "code",
   "execution_count": 146,
   "id": "90fc39b3",
   "metadata": {},
   "outputs": [
    {
     "name": "stderr",
     "output_type": "stream",
     "text": [
      "Clipping input data to the valid range for imshow with RGB data ([0..1] for floats or [0..255] for integers).\n"
     ]
    },
    {
     "data": {
      "image/png": "[encoded data removed]",
      "text/plain": [
       "<Figure size 500x600 with 8 Axes>"
      ]
     },
     "metadata": {},
     "output_type": "display_data"
    }
   ],
   "source": [
    "nr_images = 2 \n",
    "i=4\n",
    "j=4\n",
    "fig, axes = plt.subplots(nrows=nr_images, ncols=4, figsize=(nr_images*2.5, int(nr_images*3)))\n",
    "axes[0, 0].imshow((image[i].to('cpu').permute(1, 2, 0)), cmap=\"gray\")\n",
    "axes[0, 0].title.set_text(f\"Label: {label[i].item()}\")\n",
    "axes[0, 0].axis(\"off\")\n",
    "\n",
    "axes[0, 1].imshow(normal_intgrad[i], cmap=\"seismic\")\n",
    "axes[0, 1].title.set_text(f\"Attribution\")\n",
    "axes[0, 1].axis(\"off\")\n",
    "plt.tight_layout()\n",
    "\n",
    "axes[0, 2].imshow((images_pgd[i].detach().to('cpu').permute(1, 2, 0)), cmap=\"gray\")\n",
    "axes[0, 2].title.set_text(f\"Label: {y_pred_pgd[i].item()}\")\n",
    "axes[0, 2].axis(\"off\")\n",
    "plt.tight_layout()\n",
    "\n",
    "axes[0, 3].imshow(adv_intgrad[i], cmap=\"seismic\")\n",
    "axes[0, 3].title.set_text(f\"Attribution\")\n",
    "axes[0, 3].axis(\"off\")\n",
    "plt.tight_layout()\n",
    "axes[1, 0].imshow((np.moveaxis((image2[j].cpu().numpy()), 0, -1)*255).astype(np.uint8), vmin=0.0, vmax=1.0, cmap=\"gray\")\n",
    "#axes[1, 0].imshow((image2[1].to('cpu').permute(1, 2, 0)), cmap=\"gray\")\n",
    "axes[1, 0].title.set_text(f\" Label: Bird\")\n",
    "axes[1, 0].axis(\"off\")\n",
    "\n",
    "axes[1, 1].imshow(normal_intgrad2[j], cmap=\"seismic\")\n",
    "axes[1, 1].title.set_text(f\"Attribution\")\n",
    "axes[1, 1].axis(\"off\")\n",
    "\n",
    "axes[1, 2].imshow(np.transpose((images_pgd2[j].cpu().detach().numpy()),(1,2,0)), cmap=\"gray\")\n",
    "#axes[1, 1].imshow((images_pgd2[1].detach().to('cpu').permute(1, 2, 0)), cmap=\"gray\")\n",
    "axes[1, 2].title.set_text(f\" Label: Frog\")\n",
    "axes[1, 2].axis(\"off\")\n",
    "\n",
    "axes[1, 3].imshow(adv_intgrad2[j], cmap=\"seismic\")\n",
    "axes[1, 3].title.set_text(f\"Attribution\")\n",
    "axes[1, 3].axis(\"off\")\n",
    "plt.tight_layout()\n",
    "plt.show()\n",
    "#fig.savefig(\"advsamples.pdf\", format=\"pdf\", bbox_inches=\"tight\")"
   ]
  },
  {
   "cell_type": "markdown",
   "id": "9232fa1a",
   "metadata": {},
   "source": [
    "# Approach 1"
   ]
  },
  {
   "cell_type": "code",
   "execution_count": 248,
   "id": "18667c46",
   "metadata": {},
   "outputs": [
    {
     "data": {
      "image/png": "[encoded data removed]",
      "text/plain": [
       "<Figure size 640x480 with 1 Axes>"
      ]
     },
     "metadata": {},
     "output_type": "display_data"
    }
   ],
   "source": [
    "plt.imshow((image[1].to('cpu').permute(1, 2, 0)), cmap=\"gray\")\n",
    "plt.axis('off')\n",
    "plt.tight_layout()\n"
   ]
  },
  {
   "cell_type": "code",
   "execution_count": 249,
   "id": "cabde12e",
   "metadata": {},
   "outputs": [
    {
     "data": {
      "image/png": "[encoded data removed]",
      "text/plain": [
       "<Figure size 640x480 with 1 Axes>"
      ]
     },
     "metadata": {},
     "output_type": "display_data"
    }
   ],
   "source": [
    "# feature attribution \n",
    "plt.imshow(normal_intgrad[1], cmap=\"seismic\")\n",
    "plt.axis(\"off\")\n",
    "plt.tight_layout()"
   ]
  },
  {
   "cell_type": "code",
   "execution_count": 252,
   "id": "ea895799",
   "metadata": {},
   "outputs": [],
   "source": [
    "from typing import Any, Dict, Optional, Sequence, Tuple, Union, List\n",
    "\n",
    "def infer_attribution_axes(a_batch: np.ndarray, x_batch: np.ndarray)-> Sequence[int]:\n",
    "    \"\"\"\n",
    "    Reference: quantus library\n",
    "    Infers the axes in x_batch that are covered by a_batch.\n",
    "    Parameters\n",
    "    ----------\n",
    "    x_batch: np.ndarray\n",
    "        A np.ndarray which contains the input data that are explained.\n",
    "    a_batch: np.ndarray\n",
    "        An array which contains pre-computed attributions i.e., explanations.\n",
    "    Returns\n",
    "    -------\n",
    "    np.ndarray\n",
    "        The axes inferred.\n",
    "    \"\"\"\n",
    "    # TODO: Adapt for batched processing.\n",
    "\n",
    "    if a_batch.shape[0] != x_batch.shape[0]:\n",
    "        raise ValueError(\n",
    "            f\"a_batch and x_batch must have same number of batches ({a_batch.shape[0]} != {x_batch.shape[0]})\"\n",
    "        )\n",
    "\n",
    "    if a_batch.ndim > x_batch.ndim:\n",
    "        raise ValueError(\n",
    "            \"Attributions need to have <= dimensions than inputs, but {} > {}\".format(\n",
    "                a_batch.ndim, x_batch.ndim\n",
    "            )\n",
    "        )\n",
    "\n",
    "    # TODO: We currently assume here that the batch axis is not carried into the perturbation functions.\n",
    "    a_shape = [s for s in np.shape(a_batch)[1:] if s != 1]\n",
    "    x_shape = [s for s in np.shape(x_batch)[1:]]\n",
    "\n",
    "    if a_shape == x_shape:\n",
    "        return np.arange(0, len(x_shape))\n",
    "\n",
    "    # One attribution value per sample\n",
    "    if len(a_shape) == 0:\n",
    "        return np.array([])\n",
    "\n",
    "    x_subshapes = [\n",
    "        [x_shape[i] for i in range(start, start + len(a_shape))]\n",
    "        for start in range(0, len(x_shape) - len(a_shape) + 1)\n",
    "    ]\n",
    "    if x_subshapes.count(a_shape) < 1:\n",
    "\n",
    "        # Check that attribution dimensions are (consecutive) subdimensions of inputs\n",
    "        raise ValueError(\n",
    "            \"Attribution dimensions are not (consecutive) subdimensions of inputs:  \"\n",
    "            \"inputs were of shape {} and attributions of shape {}\".format(\n",
    "                x_batch.shape, a_batch.shape\n",
    "            )\n",
    "        )\n",
    "    elif x_subshapes.count(a_shape) > 1:\n",
    "\n",
    "        # Check that attribution dimensions are (unique) subdimensions of inputs.\n",
    "        # Consider potentially expanded dims in attributions.\n",
    "\n",
    "        if a_batch.ndim == x_batch.ndim and len(a_shape) < a_batch.ndim:\n",
    "            a_subshapes = [\n",
    "                [np.shape(a_batch)[1:][i] for i in range(start, start + len(a_shape))]\n",
    "                for start in range(0, len(np.shape(a_batch)[1:]) - len(a_shape) + 1)\n",
    "            ]\n",
    "            if a_subshapes.count(a_shape) == 1:\n",
    "\n",
    "                # Inferring channel shape.\n",
    "                for dim in range(len(np.shape(a_batch)[1:]) + 1):\n",
    "                    if a_shape == np.shape(a_batch)[1:][dim:]:\n",
    "                        return np.arange(dim, len(np.shape(a_batch)[1:]))\n",
    "                    if a_shape == np.shape(a_batch)[1:][:dim]:\n",
    "                        return np.arange(0, dim)\n",
    "\n",
    "            raise ValueError(\n",
    "                \"Attribution axes could not be inferred for inputs of \"\n",
    "                \"shape {} and attributions of shape {}\".format(\n",
    "                    x_batch.shape, a_batch.shape\n",
    "                )\n",
    "            )\n",
    "\n",
    "        raise ValueError(\n",
    "            \"Attribution dimensions are not unique subdimensions of inputs:  \"\n",
    "            \"inputs were of shape {} and attributions of shape {}.\"\n",
    "            \"Please expand attribution dimensions for a unique solution\".format(\n",
    "                x_batch.shape, a_batch.shape\n",
    "            )\n",
    "        )\n",
    "    else:\n",
    "        # Infer attribution axes.\n",
    "        for dim in range(len(x_shape) + 1):\n",
    "            if a_shape == x_shape[dim:]:\n",
    "                return np.arange(dim, len(x_shape))\n",
    "            if a_shape == x_shape[:dim]:\n",
    "                return np.arange(0, dim)\n",
    "\n",
    "    raise ValueError(\n",
    "        \"Attribution axes could not be inferred for inputs of \"\n",
    "        \"shape {} and attributions of shape {}\".format(x_batch.shape, a_batch.shape)\n",
    "    )\n"
   ]
  },
  {
   "cell_type": "code",
   "execution_count": 253,
   "id": "c677abe6",
   "metadata": {},
   "outputs": [],
   "source": [
    "def modify_x_based_on_attribution(x_batch, a_batch_benign, d_type, top_k = 100):\n",
    "    #get attribution axes\n",
    "    a_axes = infer_attribution_axes(a_batch_benign, x_batch)\n",
    "    perturbed_arr = []\n",
    "\n",
    "    #modify each sample one-by-one\n",
    "    for x,a in zip(x_batch, a_batch_benign):\n",
    "        #flatten the attribution \n",
    "        a = a.flatten()\n",
    "        #get indices of sorted attributions (ascending)\n",
    "        a_ind = np.argsort(a)\n",
    "        #get indices of top_k \n",
    "        a_ix = a_ind[-top_k:]\n",
    "        if d_type==\"adv\":\n",
    "            x = x.cpu()\n",
    "            x_perturbed = baseline_replacement_by_indices(arr = x.detach().numpy(), indices = a_ix, indexed_axes = a_axes, perturb_baseline = \"black\")\n",
    "            if (x.detach().numpy().flatten() != x_perturbed.flatten()).any():\n",
    "                perturbed_arr.append(torch.from_numpy(x_perturbed))\n",
    "    \n",
    "        else:\n",
    "            x_perturbed = baseline_replacement_by_indices(arr = x.cpu().numpy(), indices = a_ix, indexed_axes = a_axes, perturb_baseline = \"black\")\n",
    "            if (x.cpu().numpy().flatten() != x_perturbed.flatten()).any():\n",
    "                perturbed_arr.append(torch.from_numpy(x_perturbed))\n",
    "    \n",
    "    new_batch = torch.stack(perturbed_arr)\n",
    "    return new_batch.to('cuda')"
   ]
  },
  {
   "cell_type": "code",
   "execution_count": 258,
   "id": "56c4f197",
   "metadata": {},
   "outputs": [],
   "source": [
    "from quantus.functions.perturb_func import baseline_replacement_by_indices\n",
    "\n",
    "x_modified3 = modify_x_based_on_attribution(image, saliency_normal_intgrad, top_k = 180, d_type=\"adv\")\n",
    "x_modified2 = modify_x_based_on_attribution(image, normal_intgrad, top_k = 180, d_type=\"adv\")\n",
    "\n"
   ]
  },
  {
   "cell_type": "code",
   "execution_count": 257,
   "id": "9670ff9f",
   "metadata": {},
   "outputs": [
    {
     "data": {
      "image/png": "[encoded data removed]",
      "text/plain": [
       "<Figure size 640x480 with 1 Axes>"
      ]
     },
     "metadata": {},
     "output_type": "display_data"
    }
   ],
   "source": [
    "plt.imshow((x_modified3[1].to('cpu').permute(1, 2, 0)), cmap=\"gray\")\n",
    "plt.axis('off')\n",
    "plt.tight_layout()\n"
   ]
  },
  {
   "cell_type": "code",
   "execution_count": 259,
   "id": "a21f7ce4",
   "metadata": {},
   "outputs": [
    {
     "data": {
      "image/png": "[encoded data removed]",
      "text/plain": [
       "<Figure size 640x480 with 1 Axes>"
      ]
     },
     "metadata": {},
     "output_type": "display_data"
    }
   ],
   "source": [
    "plt.imshow((x_modified2[1].to('cpu').permute(1, 2, 0)), cmap=\"gray\")\n",
    "plt.axis('off')\n",
    "plt.tight_layout()\n"
   ]
  },
  {
   "cell_type": "code",
   "execution_count": 260,
   "id": "669bf8bf",
   "metadata": {},
   "outputs": [],
   "source": [
    "logits1 = normal_model(image)"
   ]
  },
  {
   "cell_type": "code",
   "execution_count": 261,
   "id": "30942d2b",
   "metadata": {},
   "outputs": [
    {
     "data": {
      "text/plain": [
       "tensor([ -7.9159, -10.9501,  -3.7633,  15.1049, -28.9053,   4.2725, -19.0787,\n",
       "         -9.4343,   0.1745,  -0.6404], device='cuda:0',\n",
       "       grad_fn=<SelectBackward0>)"
      ]
     },
     "execution_count": 261,
     "metadata": {},
     "output_type": "execute_result"
    }
   ],
   "source": [
    "logits1[1]"
   ]
  },
  {
   "cell_type": "code",
   "execution_count": 262,
   "id": "c972403a",
   "metadata": {},
   "outputs": [],
   "source": [
    "logits2 = normal_model(x_modified2)"
   ]
  },
  {
   "cell_type": "code",
   "execution_count": 263,
   "id": "3a855b58",
   "metadata": {},
   "outputs": [
    {
     "data": {
      "text/plain": [
       "tensor([-1.0950, -0.1961,  0.2684,  1.7998, -3.6449, -0.8278, -2.6800, -0.8163,\n",
       "        -0.4060, -1.1356], device='cuda:0', grad_fn=<SelectBackward0>)"
      ]
     },
     "execution_count": 263,
     "metadata": {},
     "output_type": "execute_result"
    }
   ],
   "source": [
    "logits2[1]"
   ]
  },
  {
   "cell_type": "code",
   "execution_count": 265,
   "id": "0db2a0fa",
   "metadata": {},
   "outputs": [],
   "source": [
    "diff1 = torch.norm(logits1[1]-logits2[1],p=1)"
   ]
  },
  {
   "cell_type": "code",
   "execution_count": 266,
   "id": "822f1335",
   "metadata": {},
   "outputs": [
    {
     "data": {
      "text/plain": [
       "tensor(91.3649, device='cuda:0', grad_fn=<LinalgVectorNormBackward0>)"
      ]
     },
     "execution_count": 266,
     "metadata": {},
     "output_type": "execute_result"
    }
   ],
   "source": [
    "diff1"
   ]
  },
  {
   "cell_type": "markdown",
   "id": "2dc4a6ea",
   "metadata": {},
   "source": [
    "# CW plots for CIFAR"
   ]
  },
  {
   "cell_type": "code",
   "execution_count": 12,
   "id": "56f974dd",
   "metadata": {},
   "outputs": [],
   "source": [
    "import torch\n"
   ]
  },
  {
   "cell_type": "code",
   "execution_count": 13,
   "id": "afaf52fc",
   "metadata": {},
   "outputs": [
    {
     "data": {
      "text/plain": [
       "ResNet(\n",
       "  (conv1): Conv2d(3, 64, kernel_size=(3, 3), stride=(1, 1), padding=(1, 1), bias=False)\n",
       "  (bn1): BatchNorm2d(64, eps=1e-05, momentum=0.1, affine=True, track_running_stats=True)\n",
       "  (layer1): Sequential(\n",
       "    (0): Bottleneck(\n",
       "      (conv1): Conv2d(64, 64, kernel_size=(1, 1), stride=(1, 1), bias=False)\n",
       "      (bn1): BatchNorm2d(64, eps=1e-05, momentum=0.1, affine=True, track_running_stats=True)\n",
       "      (conv2): Conv2d(64, 64, kernel_size=(3, 3), stride=(1, 1), padding=(1, 1), bias=False)\n",
       "      (bn2): BatchNorm2d(64, eps=1e-05, momentum=0.1, affine=True, track_running_stats=True)\n",
       "      (conv3): Conv2d(64, 256, kernel_size=(1, 1), stride=(1, 1), bias=False)\n",
       "      (bn3): BatchNorm2d(256, eps=1e-05, momentum=0.1, affine=True, track_running_stats=True)\n",
       "      (shortcut): Sequential(\n",
       "        (0): Conv2d(64, 256, kernel_size=(1, 1), stride=(1, 1), bias=False)\n",
       "        (1): BatchNorm2d(256, eps=1e-05, momentum=0.1, affine=True, track_running_stats=True)\n",
       "      )\n",
       "    )\n",
       "    (1): Bottleneck(\n",
       "      (conv1): Conv2d(256, 64, kernel_size=(1, 1), stride=(1, 1), bias=False)\n",
       "      (bn1): BatchNorm2d(64, eps=1e-05, momentum=0.1, affine=True, track_running_stats=True)\n",
       "      (conv2): Conv2d(64, 64, kernel_size=(3, 3), stride=(1, 1), padding=(1, 1), bias=False)\n",
       "      (bn2): BatchNorm2d(64, eps=1e-05, momentum=0.1, affine=True, track_running_stats=True)\n",
       "      (conv3): Conv2d(64, 256, kernel_size=(1, 1), stride=(1, 1), bias=False)\n",
       "      (bn3): BatchNorm2d(256, eps=1e-05, momentum=0.1, affine=True, track_running_stats=True)\n",
       "      (shortcut): Sequential()\n",
       "    )\n",
       "    (2): Bottleneck(\n",
       "      (conv1): Conv2d(256, 64, kernel_size=(1, 1), stride=(1, 1), bias=False)\n",
       "      (bn1): BatchNorm2d(64, eps=1e-05, momentum=0.1, affine=True, track_running_stats=True)\n",
       "      (conv2): Conv2d(64, 64, kernel_size=(3, 3), stride=(1, 1), padding=(1, 1), bias=False)\n",
       "      (bn2): BatchNorm2d(64, eps=1e-05, momentum=0.1, affine=True, track_running_stats=True)\n",
       "      (conv3): Conv2d(64, 256, kernel_size=(1, 1), stride=(1, 1), bias=False)\n",
       "      (bn3): BatchNorm2d(256, eps=1e-05, momentum=0.1, affine=True, track_running_stats=True)\n",
       "      (shortcut): Sequential()\n",
       "    )\n",
       "  )\n",
       "  (layer2): Sequential(\n",
       "    (0): Bottleneck(\n",
       "      (conv1): Conv2d(256, 128, kernel_size=(1, 1), stride=(1, 1), bias=False)\n",
       "      (bn1): BatchNorm2d(128, eps=1e-05, momentum=0.1, affine=True, track_running_stats=True)\n",
       "      (conv2): Conv2d(128, 128, kernel_size=(3, 3), stride=(2, 2), padding=(1, 1), bias=False)\n",
       "      (bn2): BatchNorm2d(128, eps=1e-05, momentum=0.1, affine=True, track_running_stats=True)\n",
       "      (conv3): Conv2d(128, 512, kernel_size=(1, 1), stride=(1, 1), bias=False)\n",
       "      (bn3): BatchNorm2d(512, eps=1e-05, momentum=0.1, affine=True, track_running_stats=True)\n",
       "      (shortcut): Sequential(\n",
       "        (0): Conv2d(256, 512, kernel_size=(1, 1), stride=(2, 2), bias=False)\n",
       "        (1): BatchNorm2d(512, eps=1e-05, momentum=0.1, affine=True, track_running_stats=True)\n",
       "      )\n",
       "    )\n",
       "    (1): Bottleneck(\n",
       "      (conv1): Conv2d(512, 128, kernel_size=(1, 1), stride=(1, 1), bias=False)\n",
       "      (bn1): BatchNorm2d(128, eps=1e-05, momentum=0.1, affine=True, track_running_stats=True)\n",
       "      (conv2): Conv2d(128, 128, kernel_size=(3, 3), stride=(1, 1), padding=(1, 1), bias=False)\n",
       "      (bn2): BatchNorm2d(128, eps=1e-05, momentum=0.1, affine=True, track_running_stats=True)\n",
       "      (conv3): Conv2d(128, 512, kernel_size=(1, 1), stride=(1, 1), bias=False)\n",
       "      (bn3): BatchNorm2d(512, eps=1e-05, momentum=0.1, affine=True, track_running_stats=True)\n",
       "      (shortcut): Sequential()\n",
       "    )\n",
       "    (2): Bottleneck(\n",
       "      (conv1): Conv2d(512, 128, kernel_size=(1, 1), stride=(1, 1), bias=False)\n",
       "      (bn1): BatchNorm2d(128, eps=1e-05, momentum=0.1, affine=True, track_running_stats=True)\n",
       "      (conv2): Conv2d(128, 128, kernel_size=(3, 3), stride=(1, 1), padding=(1, 1), bias=False)\n",
       "      (bn2): BatchNorm2d(128, eps=1e-05, momentum=0.1, affine=True, track_running_stats=True)\n",
       "      (conv3): Conv2d(128, 512, kernel_size=(1, 1), stride=(1, 1), bias=False)\n",
       "      (bn3): BatchNorm2d(512, eps=1e-05, momentum=0.1, affine=True, track_running_stats=True)\n",
       "      (shortcut): Sequential()\n",
       "    )\n",
       "    (3): Bottleneck(\n",
       "      (conv1): Conv2d(512, 128, kernel_size=(1, 1), stride=(1, 1), bias=False)\n",
       "      (bn1): BatchNorm2d(128, eps=1e-05, momentum=0.1, affine=True, track_running_stats=True)\n",
       "      (conv2): Conv2d(128, 128, kernel_size=(3, 3), stride=(1, 1), padding=(1, 1), bias=False)\n",
       "      (bn2): BatchNorm2d(128, eps=1e-05, momentum=0.1, affine=True, track_running_stats=True)\n",
       "      (conv3): Conv2d(128, 512, kernel_size=(1, 1), stride=(1, 1), bias=False)\n",
       "      (bn3): BatchNorm2d(512, eps=1e-05, momentum=0.1, affine=True, track_running_stats=True)\n",
       "      (shortcut): Sequential()\n",
       "    )\n",
       "  )\n",
       "  (layer3): Sequential(\n",
       "    (0): Bottleneck(\n",
       "      (conv1): Conv2d(512, 256, kernel_size=(1, 1), stride=(1, 1), bias=False)\n",
       "      (bn1): BatchNorm2d(256, eps=1e-05, momentum=0.1, affine=True, track_running_stats=True)\n",
       "      (conv2): Conv2d(256, 256, kernel_size=(3, 3), stride=(2, 2), padding=(1, 1), bias=False)\n",
       "      (bn2): BatchNorm2d(256, eps=1e-05, momentum=0.1, affine=True, track_running_stats=True)\n",
       "      (conv3): Conv2d(256, 1024, kernel_size=(1, 1), stride=(1, 1), bias=False)\n",
       "      (bn3): BatchNorm2d(1024, eps=1e-05, momentum=0.1, affine=True, track_running_stats=True)\n",
       "      (shortcut): Sequential(\n",
       "        (0): Conv2d(512, 1024, kernel_size=(1, 1), stride=(2, 2), bias=False)\n",
       "        (1): BatchNorm2d(1024, eps=1e-05, momentum=0.1, affine=True, track_running_stats=True)\n",
       "      )\n",
       "    )\n",
       "    (1): Bottleneck(\n",
       "      (conv1): Conv2d(1024, 256, kernel_size=(1, 1), stride=(1, 1), bias=False)\n",
       "      (bn1): BatchNorm2d(256, eps=1e-05, momentum=0.1, affine=True, track_running_stats=True)\n",
       "      (conv2): Conv2d(256, 256, kernel_size=(3, 3), stride=(1, 1), padding=(1, 1), bias=False)\n",
       "      (bn2): BatchNorm2d(256, eps=1e-05, momentum=0.1, affine=True, track_running_stats=True)\n",
       "      (conv3): Conv2d(256, 1024, kernel_size=(1, 1), stride=(1, 1), bias=False)\n",
       "      (bn3): BatchNorm2d(1024, eps=1e-05, momentum=0.1, affine=True, track_running_stats=True)\n",
       "      (shortcut): Sequential()\n",
       "    )\n",
       "    (2): Bottleneck(\n",
       "      (conv1): Conv2d(1024, 256, kernel_size=(1, 1), stride=(1, 1), bias=False)\n",
       "      (bn1): BatchNorm2d(256, eps=1e-05, momentum=0.1, affine=True, track_running_stats=True)\n",
       "      (conv2): Conv2d(256, 256, kernel_size=(3, 3), stride=(1, 1), padding=(1, 1), bias=False)\n",
       "      (bn2): BatchNorm2d(256, eps=1e-05, momentum=0.1, affine=True, track_running_stats=True)\n",
       "      (conv3): Conv2d(256, 1024, kernel_size=(1, 1), stride=(1, 1), bias=False)\n",
       "      (bn3): BatchNorm2d(1024, eps=1e-05, momentum=0.1, affine=True, track_running_stats=True)\n",
       "      (shortcut): Sequential()\n",
       "    )\n",
       "    (3): Bottleneck(\n",
       "      (conv1): Conv2d(1024, 256, kernel_size=(1, 1), stride=(1, 1), bias=False)\n",
       "      (bn1): BatchNorm2d(256, eps=1e-05, momentum=0.1, affine=True, track_running_stats=True)\n",
       "      (conv2): Conv2d(256, 256, kernel_size=(3, 3), stride=(1, 1), padding=(1, 1), bias=False)\n",
       "      (bn2): BatchNorm2d(256, eps=1e-05, momentum=0.1, affine=True, track_running_stats=True)\n",
       "      (conv3): Conv2d(256, 1024, kernel_size=(1, 1), stride=(1, 1), bias=False)\n",
       "      (bn3): BatchNorm2d(1024, eps=1e-05, momentum=0.1, affine=True, track_running_stats=True)\n",
       "      (shortcut): Sequential()\n",
       "    )\n",
       "    (4): Bottleneck(\n",
       "      (conv1): Conv2d(1024, 256, kernel_size=(1, 1), stride=(1, 1), bias=False)\n",
       "      (bn1): BatchNorm2d(256, eps=1e-05, momentum=0.1, affine=True, track_running_stats=True)\n",
       "      (conv2): Conv2d(256, 256, kernel_size=(3, 3), stride=(1, 1), padding=(1, 1), bias=False)\n",
       "      (bn2): BatchNorm2d(256, eps=1e-05, momentum=0.1, affine=True, track_running_stats=True)\n",
       "      (conv3): Conv2d(256, 1024, kernel_size=(1, 1), stride=(1, 1), bias=False)\n",
       "      (bn3): BatchNorm2d(1024, eps=1e-05, momentum=0.1, affine=True, track_running_stats=True)\n",
       "      (shortcut): Sequential()\n",
       "    )\n",
       "    (5): Bottleneck(\n",
       "      (conv1): Conv2d(1024, 256, kernel_size=(1, 1), stride=(1, 1), bias=False)\n",
       "      (bn1): BatchNorm2d(256, eps=1e-05, momentum=0.1, affine=True, track_running_stats=True)\n",
       "      (conv2): Conv2d(256, 256, kernel_size=(3, 3), stride=(1, 1), padding=(1, 1), bias=False)\n",
       "      (bn2): BatchNorm2d(256, eps=1e-05, momentum=0.1, affine=True, track_running_stats=True)\n",
       "      (conv3): Conv2d(256, 1024, kernel_size=(1, 1), stride=(1, 1), bias=False)\n",
       "      (bn3): BatchNorm2d(1024, eps=1e-05, momentum=0.1, affine=True, track_running_stats=True)\n",
       "      (shortcut): Sequential()\n",
       "    )\n",
       "  )\n",
       "  (layer4): Sequential(\n",
       "    (0): Bottleneck(\n",
       "      (conv1): Conv2d(1024, 512, kernel_size=(1, 1), stride=(1, 1), bias=False)\n",
       "      (bn1): BatchNorm2d(512, eps=1e-05, momentum=0.1, affine=True, track_running_stats=True)\n",
       "      (conv2): Conv2d(512, 512, kernel_size=(3, 3), stride=(2, 2), padding=(1, 1), bias=False)\n",
       "      (bn2): BatchNorm2d(512, eps=1e-05, momentum=0.1, affine=True, track_running_stats=True)\n",
       "      (conv3): Conv2d(512, 2048, kernel_size=(1, 1), stride=(1, 1), bias=False)\n",
       "      (bn3): BatchNorm2d(2048, eps=1e-05, momentum=0.1, affine=True, track_running_stats=True)\n",
       "      (shortcut): Sequential(\n",
       "        (0): Conv2d(1024, 2048, kernel_size=(1, 1), stride=(2, 2), bias=False)\n",
       "        (1): BatchNorm2d(2048, eps=1e-05, momentum=0.1, affine=True, track_running_stats=True)\n",
       "      )\n",
       "    )\n",
       "    (1): Bottleneck(\n",
       "      (conv1): Conv2d(2048, 512, kernel_size=(1, 1), stride=(1, 1), bias=False)\n",
       "      (bn1): BatchNorm2d(512, eps=1e-05, momentum=0.1, affine=True, track_running_stats=True)\n",
       "      (conv2): Conv2d(512, 512, kernel_size=(3, 3), stride=(1, 1), padding=(1, 1), bias=False)\n",
       "      (bn2): BatchNorm2d(512, eps=1e-05, momentum=0.1, affine=True, track_running_stats=True)\n",
       "      (conv3): Conv2d(512, 2048, kernel_size=(1, 1), stride=(1, 1), bias=False)\n",
       "      (bn3): BatchNorm2d(2048, eps=1e-05, momentum=0.1, affine=True, track_running_stats=True)\n",
       "      (shortcut): Sequential()\n",
       "    )\n",
       "    (2): Bottleneck(\n",
       "      (conv1): Conv2d(2048, 512, kernel_size=(1, 1), stride=(1, 1), bias=False)\n",
       "      (bn1): BatchNorm2d(512, eps=1e-05, momentum=0.1, affine=True, track_running_stats=True)\n",
       "      (conv2): Conv2d(512, 512, kernel_size=(3, 3), stride=(1, 1), padding=(1, 1), bias=False)\n",
       "      (bn2): BatchNorm2d(512, eps=1e-05, momentum=0.1, affine=True, track_running_stats=True)\n",
       "      (conv3): Conv2d(512, 2048, kernel_size=(1, 1), stride=(1, 1), bias=False)\n",
       "      (bn3): BatchNorm2d(2048, eps=1e-05, momentum=0.1, affine=True, track_running_stats=True)\n",
       "      (shortcut): Sequential()\n",
       "    )\n",
       "  )\n",
       "  (linear): Linear(in_features=2048, out_features=10, bias=True)\n",
       ")"
      ]
     },
     "execution_count": 13,
     "metadata": {},
     "output_type": "execute_result"
    }
   ],
   "source": [
    "#load cifar model and set to eval\n",
    "path = \"cifar.ckpt\"\n",
    "model = load_cifar_model(path)\n",
    "model.to(device)\n",
    "model.eval()"
   ]
  },
  {
   "cell_type": "code",
   "execution_count": 14,
   "id": "95a7b916",
   "metadata": {},
   "outputs": [
    {
     "name": "stdout",
     "output_type": "stream",
     "text": [
      "Files already downloaded and verified\n"
     ]
    }
   ],
   "source": [
    "testset = torchvision.datasets.CIFAR10(root='./data', train=False,\n",
    "                                           download=True, transform=torchvision.transforms.ToTensor())\n",
    "test_loader = DataLoader(testset, shuffle=True, batch_size=5)"
   ]
  },
  {
   "cell_type": "code",
   "execution_count": 15,
   "id": "9c59f0ae",
   "metadata": {},
   "outputs": [],
   "source": [
    "image2, label2 = next(iter(test_loader))\n",
    "image2, label2 = image2.to(device), label2.to(device)"
   ]
  },
  {
   "cell_type": "code",
   "execution_count": 16,
   "id": "4bb7cd46",
   "metadata": {},
   "outputs": [],
   "source": [
    "from art.attacks.evasion import BasicIterativeMethod\n",
    "from art.attacks.evasion import CarliniLInfMethod\n",
    "from art.estimators.classification import PyTorchClassifier\n"
   ]
  },
  {
   "cell_type": "code",
   "execution_count": 19,
   "id": "4c6f6164",
   "metadata": {},
   "outputs": [],
   "source": [
    "criterion = nn.CrossEntropyLoss()\n",
    "optimizer = optim.Adam(model.parameters(), lr=0.01)\n",
    "classifier = PyTorchClassifier(\n",
    "    model=model, clip_values=(0, 1), loss=criterion, optimizer=optimizer, input_shape=(3, 32, 32),\n",
    "        nb_classes=10,\n",
    ")"
   ]
  },
  {
   "cell_type": "code",
   "execution_count": 20,
   "id": "06b8133b",
   "metadata": {},
   "outputs": [],
   "source": [
    "attack = CarliniLInfMethod(classifier, confidence = 0)"
   ]
  },
  {
   "cell_type": "code",
   "execution_count": 21,
   "id": "94c6fbd2",
   "metadata": {},
   "outputs": [],
   "source": [
    "attack1 = CarliniLInfMethod(classifier, confidence = 50)"
   ]
  },
  {
   "cell_type": "code",
   "execution_count": 22,
   "id": "12e875a9",
   "metadata": {},
   "outputs": [],
   "source": [
    "def make_cw_attack(attack, x_batch, y_batch, model):\n",
    "    #convert tensor to numpy\n",
    "    #x_batch=x_batch.to('cuda')\n",
    "    #_, y_pred_pgd = normal_model(x_batch).max(1)\n",
    "    x_batch = x_batch.cpu().numpy()\n",
    "    x_test_adv = attack.generate(x=x_batch)\n",
    "    #convert the nd array back to tensor\n",
    "    x_test = torch.from_numpy(x_test_adv).to('cuda')\n",
    "    _, y_test = model(x_test).max(1)\n",
    "    #index = (y_test != y_batch)\n",
    "    #adv_images = x_test[index]\n",
    "    #y_pred_adv = y_test[index]\n",
    "    return x_test, y_test"
   ]
  },
  {
   "cell_type": "code",
   "execution_count": 23,
   "id": "80dcc6ba",
   "metadata": {},
   "outputs": [
    {
     "data": {
      "text/plain": [
       "(5, tensor([0, 6, 3, 7, 2], device='cuda:0'))"
      ]
     },
     "execution_count": 23,
     "metadata": {},
     "output_type": "execute_result"
    }
   ],
   "source": [
    "len(image2), label2"
   ]
  },
  {
   "cell_type": "code",
   "execution_count": 24,
   "id": "e65ff5a0",
   "metadata": {},
   "outputs": [
    {
     "data": {
      "application/vnd.jupyter.widget-view+json": {
       "model_id": "6ab7f03ff2f843deb2a5c2f03ca5cecb",
       "version_major": 2,
       "version_minor": 0
      },
      "text/plain": [
       "C&W L_inf:   0%|          | 0/5 [00:00<?, ?it/s]"
      ]
     },
     "metadata": {},
     "output_type": "display_data"
    }
   ],
   "source": [
    "images_cw,y_pred_cw = make_cw_attack(attack, image2, label2, model)"
   ]
  },
  {
   "cell_type": "code",
   "execution_count": 25,
   "id": "2c7198c2",
   "metadata": {},
   "outputs": [
    {
     "data": {
      "text/plain": [
       "tensor([1, 2, 5, 5, 3], device='cuda:0')"
      ]
     },
     "execution_count": 25,
     "metadata": {},
     "output_type": "execute_result"
    }
   ],
   "source": [
    "y_pred_cw"
   ]
  },
  {
   "cell_type": "code",
   "execution_count": 26,
   "id": "b1ef8440",
   "metadata": {},
   "outputs": [
    {
     "data": {
      "application/vnd.jupyter.widget-view+json": {
       "model_id": "9051e981d7cd4176937c879d151a9d26",
       "version_major": 2,
       "version_minor": 0
      },
      "text/plain": [
       "C&W L_inf:   0%|          | 0/5 [00:00<?, ?it/s]"
      ]
     },
     "metadata": {},
     "output_type": "display_data"
    }
   ],
   "source": [
    "images_cw2,y_pred_cw2 = make_cw_attack(attack1, image2, label2, model)"
   ]
  },
  {
   "cell_type": "code",
   "execution_count": 27,
   "id": "bed962d2",
   "metadata": {},
   "outputs": [
    {
     "data": {
      "text/plain": [
       "tensor([1, 2, 5, 5, 3], device='cuda:0')"
      ]
     },
     "execution_count": 27,
     "metadata": {},
     "output_type": "execute_result"
    }
   ],
   "source": [
    "y_pred_cw2"
   ]
  },
  {
   "cell_type": "code",
   "execution_count": 28,
   "id": "e7ca8642",
   "metadata": {},
   "outputs": [],
   "source": [
    "images_cw, y_pred_cw = images_cw.to(device), y_pred_cw.to(device)\n",
    "images_cw2, y_pred_cw2 = images_cw2.to(device), y_pred_cw2.to(device)"
   ]
  },
  {
   "cell_type": "code",
   "execution_count": 30,
   "id": "bcc5a781",
   "metadata": {},
   "outputs": [],
   "source": [
    "import gc \n",
    "gc.collect()\n",
    "torch.cuda.empty_cache()"
   ]
  },
  {
   "cell_type": "code",
   "execution_count": 32,
   "id": "0e6031bd",
   "metadata": {},
   "outputs": [],
   "source": [
    "from captum.attr import *\n",
    "import quantus"
   ]
  },
  {
   "cell_type": "code",
   "execution_count": 33,
   "id": "91beb2ca",
   "metadata": {},
   "outputs": [],
   "source": [
    "# Generate normalised Saliency and Integrated Gradients attributions of the first batch of the test set.\n",
    "normal_intgrad = quantus.normalise_func.normalise_by_negative(IntegratedGradients(model).attribute(inputs=image2, target=label2, baselines=torch.zeros_like(image2)).sum(axis=1).cpu().numpy())"
   ]
  },
  {
   "cell_type": "code",
   "execution_count": 35,
   "id": "94f2e8b9",
   "metadata": {},
   "outputs": [],
   "source": [
    "adv_intgrad1 = quantus.normalise_func.normalise_by_negative(IntegratedGradients(model).attribute(inputs=images_cw.detach(), target=y_pred_cw, baselines=torch.zeros_like(images_cw)).sum(axis=1).cpu().numpy())"
   ]
  },
  {
   "cell_type": "code",
   "execution_count": 36,
   "id": "d1286ef8",
   "metadata": {},
   "outputs": [],
   "source": [
    "adv_intgrad2 = quantus.normalise_func.normalise_by_negative(IntegratedGradients(model).attribute(inputs=images_cw2.detach(), target=y_pred_cw2, baselines=torch.zeros_like(images_cw2)).sum(axis=1).cpu().numpy())"
   ]
  },
  {
   "cell_type": "code",
   "execution_count": 43,
   "id": "7b97a354",
   "metadata": {},
   "outputs": [
    {
     "data": {
      "text/plain": [
       "(tensor([0, 6, 3, 7, 2], device='cuda:0'),\n",
       " tensor([6, 2, 3, 5, 3], device='cuda:0'))"
      ]
     },
     "execution_count": 43,
     "metadata": {},
     "output_type": "execute_result"
    }
   ],
   "source": [
    "images_fgsm = fast_gradient_method(model, image2, 0.03, np.inf)\n",
    "_, y_pred_fgsm = model(images_fgsm).max(1)\n",
    "label2,  y_pred_fgsm"
   ]
  },
  {
   "cell_type": "code",
   "execution_count": 44,
   "id": "3bbe03bf",
   "metadata": {},
   "outputs": [],
   "source": [
    "adv_intgrad3 = quantus.normalise_func.normalise_by_negative(IntegratedGradients(model).attribute(inputs=images_fgsm.detach(), target=y_pred_fgsm, baselines=torch.zeros_like(images_fgsm)).sum(axis=1).cpu().numpy())"
   ]
  },
  {
   "cell_type": "code",
   "execution_count": 48,
   "id": "327c7976",
   "metadata": {},
   "outputs": [
    {
     "data": {
      "image/png": "[encoded data removed]",
      "text/plain": [
       "<Figure size 500x600 with 8 Axes>"
      ]
     },
     "metadata": {},
     "output_type": "display_data"
    }
   ],
   "source": [
    "nr_images = 2 \n",
    "fig, axes = plt.subplots(nrows=nr_images, ncols=4, figsize=(nr_images*2.5, int(nr_images*3)))\n",
    "axes[0, 0].imshow((np.moveaxis((image2[4].cpu().numpy()), 0, -1)*255).astype(np.uint8), vmin=0.0, vmax=1.0, cmap=\"gray\")\n",
    "#axes[1, 0].imshow((image2[1].to('cpu').permute(1, 2, 0)), cmap=\"gray\")\n",
    "axes[0, 0].title.set_text(f\" Label: Bird\")\n",
    "axes[0, 0].axis(\"off\")\n",
    "\n",
    "axes[0, 1].imshow(normal_intgrad[4], cmap=\"seismic\")\n",
    "axes[0, 1].title.set_text(f\"Attribution\")\n",
    "axes[0, 1].axis(\"off\")\n",
    "\n",
    "axes[0, 2].imshow(np.transpose((images_cw[4].cpu().detach().numpy()),(1,2,0)), cmap=\"gray\")\n",
    "#axes[1, 1].imshow((images_pgd2[1].detach().to('cpu').permute(1, 2, 0)), cmap=\"gray\")\n",
    "axes[0, 2].title.set_text(f\" Label: Cat\")\n",
    "axes[0, 2].axis(\"off\")\n",
    "\n",
    "axes[0, 3].imshow(adv_intgrad1[4], cmap=\"seismic\")\n",
    "axes[0, 3].title.set_text(f\"Attribution\")\n",
    "axes[0, 3].axis(\"off\")\n",
    "plt.tight_layout()\n",
    "\n",
    "axes[1, 0].imshow((np.moveaxis((image2[4].cpu().numpy()), 0, -1)*255).astype(np.uint8), vmin=0.0, vmax=1.0, cmap=\"gray\")\n",
    "axes[1, 0].title.set_text(f\" Label: Bird\")\n",
    "axes[1, 0].axis(\"off\")\n",
    "\n",
    "axes[1, 1].imshow(normal_intgrad[4], cmap=\"seismic\")\n",
    "axes[1, 1].title.set_text(f\"Attribution\")\n",
    "axes[1, 1].axis(\"off\")\n",
    "\n",
    "axes[1, 2].imshow(np.transpose((images_fgsm[4].cpu().detach().numpy()),(1,2,0)), cmap=\"gray\")\n",
    "axes[1, 2].title.set_text(f\" Label: Cat\")\n",
    "axes[1, 2].axis(\"off\")\n",
    "\n",
    "axes[1, 3].imshow(adv_intgrad3[4], cmap=\"seismic\")\n",
    "axes[1, 3].title.set_text(f\"Attribution\")\n",
    "axes[1, 3].axis(\"off\")\n",
    "plt.tight_layout()\n",
    "plt.show()\n",
    "\n",
    "\n",
    "\n",
    "fig.savefig(\"CWadvsamples.pdf\", format=\"pdf\", bbox_inches=\"tight\")"
   ]
  },
  {
   "cell_type": "code",
   "execution_count": null,
   "id": "8d911c75",
   "metadata": {},
   "outputs": [],
   "source": []
  }
 ],
 "metadata": {
  "kernelspec": {
   "display_name": "adv_detection",
   "language": "python",
   "name": "adv_detection"
  },
  "language_info": {
   "codemirror_mode": {
    "name": "ipython",
    "version": 3
   },
   "file_extension": ".py",
   "mimetype": "text/x-python",
   "name": "python",
   "nbconvert_exporter": "python",
   "pygments_lexer": "ipython3",
   "version": "3.8.10"
  }
 },
 "nbformat": 4,
 "nbformat_minor": 5
}
